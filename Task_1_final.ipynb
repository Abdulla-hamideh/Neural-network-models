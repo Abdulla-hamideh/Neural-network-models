{
  "nbformat": 4,
  "nbformat_minor": 0,
  "metadata": {
    "colab": {
      "name": "Task_1_final.ipynb",
      "provenance": [],
      "collapsed_sections": [
        "DWg2EfCSCzWx",
        "HJRBvWMrZIo6",
        "-11_akNwd5q4",
        "qMuYgGDVldTe",
        "vNey8qbGlt1J",
        "SO0Ptu6AjsKV",
        "bkoECRxIlnty",
        "b-epORk6rrj2",
        "8r3r0prStnqc",
        "5EABPyp9LN-i",
        "wZf6t55PuIM4",
        "LHiHKYDfv3n8",
        "RFpxjxal0T2M",
        "w0qlMfaczLz5",
        "inp1Xkeuc4Du",
        "8vUWzxIzbQqw",
        "kr_LgI_91UqW",
        "2MymLm9O1aEg",
        "uxQxKXFy1fIc",
        "-MvJMIDp1hxA",
        "oOYBvx8zE0BO",
        "nzm5PCxuMMQX",
        "zhUMqc2n4J2g"
      ]
    },
    "kernelspec": {
      "name": "python3",
      "display_name": "Python 3"
    },
    "language_info": {
      "name": "python"
    },
    "accelerator": "GPU"
  },
  "cells": [
    {
      "cell_type": "markdown",
      "metadata": {
        "id": "-4LwzgWuFm0e"
      },
      "source": [
        "# Overview and Abstract\n",
        "- Team name: Help\n",
        "- Group Number: Z\n",
        "- Word count: 1,159\n",
        "- Class: CS987\n",
        "\n",
        "- Team members: Abdulla Hamideh(2020677920), Jan Welz(202073187), Jonathan Miller(202051047), Konstantin Stauffer(202067955), Sotiris Hadjinicolaou(202092702).\n",
        "\n",
        "- Task 1\n",
        "\n",
        "- Executive summary\n",
        "Task: This report aimed to solve a binary classification problem using a standard machine learning and neural network models that would predict whether the interaction with a document leads to it being classified as relevant(1) or not relevant(0).\n",
        "\n",
        "Models employed in the analysis include logistic regression, 3-layer, dense-deep and wide and deep neural networks. Class weights and data augmentation was performed to solve the data imbalance of the target variable. The best performing model was the 3-layer model with an Adam optimizer, a learning rate schedule and an early stopping regularization technique with an f1 score of 0.13149 on Kaggle.\n"
      ]
    },
    {
      "cell_type": "markdown",
      "metadata": {
        "id": "0VMDj7r3Istv"
      },
      "source": [
        "# Method\n",
        "The same data preprocessing was performed both in the training set and test set. Variables id, user, session, and query were dropped from both datasets as those variables seem to not add valuable information for the task. The variable timestamp was also dropped as hour, day and month provide the same information. The final training set includes 3 binary variables (new-sub, premium-pack and psrel), 5 numerical variables (rank, serp, hour, dwell and #cpv45) and 7 categorical variables  (search, day, month, source, type, nature and cpvs). The preprocessing was divided into categorical and numerical variables.\n",
        "All numerical variables were analyzed using boxplots. Outliers lying above the upper whisker were given the value of the upper bound and vice-versa. \n",
        "Categorical variables were transformed using the Label Encoder function. Label encoding is a very common approach giving a value from 1 up to the total value of categories found in the feature transformed. The variable nature contained 11,402 missing values in the training set and 719 missing values in the test set. Instead of deleting the missing values and losing important information, a new category named 'none' was created to hold all missing values. All the features were scaled using the StandardScaler function as it transforms all values to a range between -1 and 1 with a mean of 0.\n",
        "\n",
        "## Logistic Regression\n",
        "Logistic regression is one of the commonly used models for binary classification. Essentially,  it estimates the probability that a data point belongs to a particular class.\n",
        "\n",
        "## Neural network models\n",
        "All models use Adam optimizer, learning rate of 0.001, cross entropy loss function and a batch size of 32.  Adam optimizer is considered a very robust choice of the optimizer that works for most deep learning problems and can be very efficient in terms of computation as it does not require the system to have a lot of memory (Kingma and Ba, 2015).\n",
        "\n",
        "###3-layer Neural Network\n",
        "\n",
        "• Input layer\n",
        "\n",
        "• 1 hidden dense layer with 125 neurons, RELU activation function and He normal initialization.\n",
        "\n",
        "• Output layer with sigmoid activation function.\n",
        "\n",
        "• Epochs = 100.\n",
        "\n",
        "RELU is defined as y= max (0,z)  and has been used as it can speed up the model's training and since the function is not limited to very high numbers of z, it can help alleviate vanishing gradient problems noticed in other activation functions (Geron, 2019). Using RELU, He et al (2015) argues that the most suitable initialization to choose is He as it speeds up the learning. \n",
        "\n",
        "### Dense deep neural network\n",
        "\n",
        "• Input layer\n",
        "\n",
        "• 3 hidden dense layers with 125 neurons on each layer, RELU as activation function and He initialization.\n",
        "\n",
        "• 3 dropout layers(one after each dense hidden layer) with dropout rate of 0.2\n",
        "\n",
        "• Output layer with a sigmoid activation function.\n",
        "\n",
        "• Epochs = 30.\n",
        "\n",
        "Dropout is one of the most widely used regularization approaches that can help models increase their accuracy by a couple of points and reduce overfitting (Srivastava et al, 2014; Hinton, 2012). According to the specified dropout rate, some neurons are dropped during training, and so, neurons left in the model are 'learning' to be more productive on their own.\n",
        "\n",
        "### Wide and Deep model\n",
        "\n",
        "This model creates two paths for the inputs (one deep path and one wide path) and then concatenating them to be feed in the output layer so, it can learn deeper patterns as information passed through the deep path with hidden dense layers and can also learn simpler transformations through the wide path. \n",
        "\n",
        "• Input layer\n",
        "\n",
        "• 3 hidden dense layers of 50 neurons each, RELU as activation function and He initialization used for the deep path. \n",
        "\n",
        "• Concatenating layer uniting the output form the deep and wide path. \n",
        "\n",
        "• Output layer with a sigmoid activation function.\n",
        "\n",
        "• Epochs = 3.\n",
        "\n",
        "## Training Schedule\n",
        "\n",
        "• Trial-and-error approach to different combinations of neurons, activation functions and other parameters. \n",
        "\n",
        "• Grid search function was employed in the dense deep model to get a feeling of the appropriate number of neurons and hidden layers to be used as specified in the parameter grid. However, this method was found to be very time consuming (30 minutes) to run.\n",
        "\n",
        "## Improving the performance\n",
        "\n",
        "• Non-relevant documents(0) 94.05% \n",
        "\n",
        "• Relevant documents(1) 5.95% \n",
        "\n",
        "This creates a problem as the models will be heavily biased towards the majority class when trained. Therefore, we introduced class weights that were passed as a parameter through the models. We also used a data augmentation approach like SMOTE oversampling which creates synthetic data values for the minority class so that there are more instances of the minority class. Both methods worked very well in comparison to not using any method to tackle the imbalance problem. Furthermore, we introduced an exponential learning schedule decreasing the learning rate as the model runs over more epochs. We also introduced a regularization technique called early stopping, stopping the training when the validation loss finds its minimum.\n"
      ]
    },
    {
      "cell_type": "markdown",
      "metadata": {
        "id": "DWg2EfCSCzWx"
      },
      "source": [
        "# Packages"
      ]
    },
    {
      "cell_type": "code",
      "metadata": {
        "colab": {
          "base_uri": "https://localhost:8080/"
        },
        "id": "2R6VcYWdC5x7",
        "outputId": "2ca3d700-b54f-4e08-96a5-bea32e3a3c80"
      },
      "source": [
        "import os\n",
        "import time\n",
        "import datetime\n",
        "import numpy as np\n",
        "import pandas as pd\n",
        "import seaborn as sns\n",
        "import matplotlib.pyplot as plt\n",
        "import pandas as pd\n",
        "\n",
        "!pip install scikit-learn==0.21.2\n",
        "import sklearn\n",
        "\n",
        "import tensorflow as tf\n",
        "from tensorflow import keras\n",
        "from keras.callbacks import Callback\n",
        "from sklearn.metrics import confusion_matrix, f1_score, precision_score, recall_score\n",
        "sklearn.__version__\n",
        "from sklearn.preprocessing import StandardScaler,LabelEncoder\n",
        "from sklearn.model_selection import train_test_split\n",
        "import imblearn\n",
        "print(imblearn.__version__)\n",
        "from imblearn.over_sampling import SMOTE\n",
        "from collections import Counter\n",
        "import io\n",
        "from google.colab import files\n",
        "from sklearn.linear_model import LogisticRegression\n",
        "from sklearn.metrics import confusion_matrix, accuracy_score,f1_score,classification_report\n",
        "from keras.models import Sequential\n",
        "from keras.layers import Dense\n",
        "from keras.wrappers.scikit_learn import KerasClassifier\n",
        "from sklearn.model_selection import KFold\n",
        "from sklearn.model_selection import RandomizedSearchCV\n",
        "from sklearn.model_selection import RepeatedStratifiedKFold\n",
        "\n",
        "import keras\n",
        "import keras.utils\n",
        "from keras import utils as np_utils\n",
        "from sklearn.model_selection import GridSearchCV\n",
        "from sklearn.preprocessing import LabelEncoder"
      ],
      "execution_count": null,
      "outputs": [
        {
          "output_type": "stream",
          "text": [
            "Collecting scikit-learn==0.21.2\n",
            "\u001b[?25l  Downloading https://files.pythonhosted.org/packages/21/a4/a48bd4b0d15395362b561df7e7247de87291105eb736a3b2aaffebf437b9/scikit_learn-0.21.2-cp37-cp37m-manylinux1_x86_64.whl (6.7MB)\n",
            "\u001b[K     |████████████████████████████████| 6.7MB 6.8MB/s \n",
            "\u001b[?25hRequirement already satisfied: numpy>=1.11.0 in /usr/local/lib/python3.7/dist-packages (from scikit-learn==0.21.2) (1.19.5)\n",
            "Requirement already satisfied: joblib>=0.11 in /usr/local/lib/python3.7/dist-packages (from scikit-learn==0.21.2) (1.0.1)\n",
            "Requirement already satisfied: scipy>=0.17.0 in /usr/local/lib/python3.7/dist-packages (from scikit-learn==0.21.2) (1.4.1)\n",
            "Installing collected packages: scikit-learn\n",
            "  Found existing installation: scikit-learn 0.22.2.post1\n",
            "    Uninstalling scikit-learn-0.22.2.post1:\n",
            "      Successfully uninstalled scikit-learn-0.22.2.post1\n",
            "Successfully installed scikit-learn-0.21.2\n",
            "0.4.3\n"
          ],
          "name": "stdout"
        },
        {
          "output_type": "stream",
          "text": [
            "/usr/local/lib/python3.7/dist-packages/sklearn/externals/six.py:31: DeprecationWarning: The module is deprecated in version 0.21 and will be removed in version 0.23 since we've dropped support for Python 2.7. Please rely on the official version of six (https://pypi.org/project/six/).\n",
            "  \"(https://pypi.org/project/six/).\", DeprecationWarning)\n"
          ],
          "name": "stderr"
        }
      ]
    },
    {
      "cell_type": "markdown",
      "metadata": {
        "id": "5ZFMTk1GF5GZ"
      },
      "source": [
        "# Result table\n",
        "\n",
        "• Best f1 score on the training data was recorded in the dense deep model with class weights.\n",
        "\n",
        "• Worst f1 score on training data was recorded with the logistic regression with class weights and with SMOTE. \n",
        "\n",
        "The result of the logistic regression was quite expected as neural network models are considered more powerful models. The best prediction on Kaggle of 0.13149 was performed using the 3-layer neural network model with class weights. All models` scores are presented in the table x. Overall, the scores for all the models were low as a reasonable f1 score is above 0.75.\n",
        "Overfitting means that the models are not generalizing well on unseen data. We first included some batch normalization layers after each hidden dense layers to tackle overfitting, but the training loss was higher, so those layers were removed. We also tried l2 regularization for each hidden dense layers of the models but, they did not alleviate overfitting. Regularization makes the network prefer smaller weights, as, with a non-regularized cost function, weights can get quite large. Lastly, as mentioned above, we used some dropout layers to all neural network models. Still, it was only beneficial in terms of higher scores on the test data for the dense deep model and not eliminating overfitting.\n",
        "\n",
        "\n",
        "![image.png](data:image/png;base64,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)"
      ]
    },
    {
      "cell_type": "markdown",
      "metadata": {
        "id": "hJqN3KMSLiqF"
      },
      "source": [
        "# Recommendations and discussion\n",
        "\n",
        "As shown from our results, adding more complexity (more layers or more parameters) to the models did not increase the overall score. In general, we cannot recommend any of the models to be used yet as the f1-score is significantly to low to add value for the company through the analysis performed. \n",
        "More data needs to be collected to solve the issue of imbalanced data and increase the scores to a level where the models can be helpful. As mentioned, we introduced an augmentation technique to increase the data points of the minority class but, it did not give us a better score since synthetic values may add some unwelcome noise to the data, affecting the performance of neural networks. \n",
        "Another approach suitable for this task could be reinforcement learning, which should be tried in comparison. \n"
      ]
    },
    {
      "cell_type": "markdown",
      "metadata": {
        "id": "JpwTvJ2JL-rg"
      },
      "source": [
        "# References\n",
        "\n",
        "•\tBengio, Yoshua and Glorot, Xavier.(2010). Understanding the difficulty of training deep feedforward neural networks. In Proceedings of AISTATS 2010, volume 9, pp. 249–256.\n",
        "\n",
        "•\tCheng, H., Koc, L., Harmsen, J., Shaked, T., Chandra, T., Aradhye, H., Anderson, G., Corrado, G., Chai, W., Ispir, M., Anil, R., Haque, Z., Hong, L., Jain, V., Liu, X. and Shah, H., (2016). Wide & Deep Learning for Recommender Systems. Proceedings of the 1st Workshop on Deep Learning for Recommender Systems,.\n",
        "\n",
        "•\tGéron, A. (2019). Hands-on machine learning with Scikit-Learn, Keras and TensorFlow.\n",
        "\n",
        "•\tHe, K., Zhang, X., Ren, S. and Sun, J., 2015. Delving Deep into Rectifiers: Surpassing Human-Level Performance on ImageNet Classification.( 2015) IEEE International Conference on Computer Vision (ICCV),.\n",
        "\n",
        "•\tHinton, G.E., Srivastave, N., Krizhevsky, A., Sutskever, I., Salakhutdinov, R.R.:(2012). Improving neural networks by preventing co-adaptation of feature detectors. In: arXiv:1207.0580.\n",
        "\n",
        "•\tKhalilpour Darzi, M., Niaki, S. and Khedmati, M.,( 2019). Binary classification of imbalanced datasets: The case of CoIL challenge 2000. Expert Systems with Applications, 128, pp.169-186.\n",
        "\n",
        "•\tKingma,D.,P., Ba,L.,J, (2015) Adam : A Method for Stochastic Optimization, published as a conference paper at ICLR 2015.\n",
        "\n",
        "•\tSrivastava, Nitish, Hinton, Geoffrey, Krizhevsky, Alex, Sutskever, Ilya, and Salakhutdinov, Ruslan. (2014). Dropout: A simple way to prevent neural networks from overfitting. J. Mach. Learn. Res., 15(1):1929–1958.\n"
      ]
    },
    {
      "cell_type": "markdown",
      "metadata": {
        "id": "QBkrew9SMQuV"
      },
      "source": [
        "# Code"
      ]
    },
    {
      "cell_type": "markdown",
      "metadata": {
        "id": "HJRBvWMrZIo6"
      },
      "source": [
        "# Loading the training and test set"
      ]
    },
    {
      "cell_type": "code",
      "metadata": {
        "colab": {
          "resources": {
            "http://localhost:8080/nbextensions/google.colab/files.js": {
              "data": "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",
              "ok": true,
              "headers": [
                [
                  "content-type",
                  "application/javascript"
                ]
              ],
              "status": 200,
              "status_text": ""
            }
          },
          "base_uri": "https://localhost:8080/"
        },
        "id": "tvnvIQkbC50_",
        "outputId": "ae2755b5-125f-43b2-ae75-f05eced4de7d"
      },
      "source": [
        "# loading the training and test set\n",
        "uploaded = files.upload()"
      ],
      "execution_count": null,
      "outputs": [
        {
          "output_type": "display_data",
          "data": {
            "text/html": [
              "\n",
              "     <input type=\"file\" id=\"files-65bf5818-96a4-4661-ab7c-4bbf76637125\" name=\"files[]\" multiple disabled\n",
              "        style=\"border:none\" />\n",
              "     <output id=\"result-65bf5818-96a4-4661-ab7c-4bbf76637125\">\n",
              "      Upload widget is only available when the cell has been executed in the\n",
              "      current browser session. Please rerun this cell to enable.\n",
              "      </output>\n",
              "      <script src=\"/nbextensions/google.colab/files.js\"></script> "
            ],
            "text/plain": [
              "<IPython.core.display.HTML object>"
            ]
          },
          "metadata": {
            "tags": []
          }
        },
        {
          "output_type": "stream",
          "text": [
            "Saving test.csv to test.csv\n",
            "Saving train.csv to train.csv\n"
          ],
          "name": "stdout"
        }
      ]
    },
    {
      "cell_type": "markdown",
      "metadata": {
        "id": "-11_akNwd5q4"
      },
      "source": [
        "# Preprocessing"
      ]
    },
    {
      "cell_type": "code",
      "metadata": {
        "colab": {
          "base_uri": "https://localhost:8080/"
        },
        "id": "03lRgised175",
        "outputId": "d430bfa1-6c68-4e79-cecc-2d2df8283b5f"
      },
      "source": [
        "test = pd.read_csv(io.BytesIO(uploaded['test.csv']))\n",
        "train = pd.read_csv(io.BytesIO(uploaded['train.csv']))"
      ],
      "execution_count": null,
      "outputs": [
        {
          "output_type": "stream",
          "text": [
            "/usr/local/lib/python3.7/dist-packages/IPython/core/interactiveshell.py:2718: DtypeWarning: Columns (16) have mixed types.Specify dtype option on import or set low_memory=False.\n",
            "  interactivity=interactivity, compiler=compiler, result=result)\n"
          ],
          "name": "stderr"
        }
      ]
    },
    {
      "cell_type": "code",
      "metadata": {
        "id": "EgVHdNnlvF1x",
        "colab": {
          "base_uri": "https://localhost:8080/"
        },
        "outputId": "3c4910f8-e9a3-4f99-e197-b76eeb1ddef4"
      },
      "source": [
        "# first 5 rows of the training set\n",
        "train.head()"
      ],
      "execution_count": null,
      "outputs": [
        {
          "output_type": "execute_result",
          "data": {
            "text/html": [
              "<div>\n",
              "<style scoped>\n",
              "    .dataframe tbody tr th:only-of-type {\n",
              "        vertical-align: middle;\n",
              "    }\n",
              "\n",
              "    .dataframe tbody tr th {\n",
              "        vertical-align: top;\n",
              "    }\n",
              "\n",
              "    .dataframe thead th {\n",
              "        text-align: right;\n",
              "    }\n",
              "</style>\n",
              "<table border=\"1\" class=\"dataframe\">\n",
              "  <thead>\n",
              "    <tr style=\"text-align: right;\">\n",
              "      <th></th>\n",
              "      <th>user</th>\n",
              "      <th>session</th>\n",
              "      <th>query</th>\n",
              "      <th>timestamp</th>\n",
              "      <th>search</th>\n",
              "      <th>rank</th>\n",
              "      <th>serp</th>\n",
              "      <th>hour</th>\n",
              "      <th>day</th>\n",
              "      <th>month</th>\n",
              "      <th>dwell</th>\n",
              "      <th>new-sub</th>\n",
              "      <th>premium-pack</th>\n",
              "      <th>psrel</th>\n",
              "      <th>source</th>\n",
              "      <th>type</th>\n",
              "      <th>nature</th>\n",
              "      <th>cpvs</th>\n",
              "      <th>#cpv45</th>\n",
              "    </tr>\n",
              "  </thead>\n",
              "  <tbody>\n",
              "    <tr>\n",
              "      <th>0</th>\n",
              "      <td>8438057</td>\n",
              "      <td>A311E564F0A79803FB564CEAB6D7499A</td>\n",
              "      <td>d4fe169251f77f0800245e2df8376856</td>\n",
              "      <td>2020-05-26 10:45:36</td>\n",
              "      <td>quick</td>\n",
              "      <td>1</td>\n",
              "      <td>1</td>\n",
              "      <td>10</td>\n",
              "      <td>Tue</td>\n",
              "      <td>May</td>\n",
              "      <td>1</td>\n",
              "      <td>1</td>\n",
              "      <td>0</td>\n",
              "      <td>0</td>\n",
              "      <td>Intercon</td>\n",
              "      <td>notice</td>\n",
              "      <td>services</td>\n",
              "      <td>['66131100', '66141000', '66519600', '66520000']</td>\n",
              "      <td>1</td>\n",
              "    </tr>\n",
              "    <tr>\n",
              "      <th>1</th>\n",
              "      <td>8438876</td>\n",
              "      <td>5E91CF19B8BEBA58A90E54EC97AAB3AF</td>\n",
              "      <td>5066bca0a00273cf3925b0c2f260f763</td>\n",
              "      <td>2020-01-21 10:47:51</td>\n",
              "      <td>saved</td>\n",
              "      <td>75</td>\n",
              "      <td>8</td>\n",
              "      <td>10</td>\n",
              "      <td>Tue</td>\n",
              "      <td>Jan</td>\n",
              "      <td>10</td>\n",
              "      <td>1</td>\n",
              "      <td>0</td>\n",
              "      <td>0</td>\n",
              "      <td>Contrax Weekly</td>\n",
              "      <td>notice</td>\n",
              "      <td>services</td>\n",
              "      <td>['79421000', '92520000', '92521000']</td>\n",
              "      <td>2</td>\n",
              "    </tr>\n",
              "    <tr>\n",
              "      <th>2</th>\n",
              "      <td>922102585</td>\n",
              "      <td>7D717BA805FB42D51D6C8EC15C0DE2C1</td>\n",
              "      <td>174e0e6c62fd5d7b044dd05b47ce79c9</td>\n",
              "      <td>2020-02-05 09:37:42</td>\n",
              "      <td>advanced</td>\n",
              "      <td>4</td>\n",
              "      <td>1</td>\n",
              "      <td>9</td>\n",
              "      <td>Wed</td>\n",
              "      <td>Feb</td>\n",
              "      <td>21</td>\n",
              "      <td>1</td>\n",
              "      <td>0</td>\n",
              "      <td>0</td>\n",
              "      <td>Contrax Weekly</td>\n",
              "      <td>notice</td>\n",
              "      <td>services</td>\n",
              "      <td>['79421000', '92520000', '92521000']</td>\n",
              "      <td>2</td>\n",
              "    </tr>\n",
              "    <tr>\n",
              "      <th>3</th>\n",
              "      <td>2105483652</td>\n",
              "      <td>D4855E55686DB80328B141598E3174CE</td>\n",
              "      <td>0f9f7f67dc569a6e3dba1ef35ce8970a</td>\n",
              "      <td>2020-01-21 14:43:57</td>\n",
              "      <td>advanced</td>\n",
              "      <td>66</td>\n",
              "      <td>4</td>\n",
              "      <td>14</td>\n",
              "      <td>Tue</td>\n",
              "      <td>Jan</td>\n",
              "      <td>21</td>\n",
              "      <td>0</td>\n",
              "      <td>0</td>\n",
              "      <td>0</td>\n",
              "      <td>Contrax Weekly</td>\n",
              "      <td>notice</td>\n",
              "      <td>services</td>\n",
              "      <td>['79421000', '92520000', '92521000']</td>\n",
              "      <td>2</td>\n",
              "    </tr>\n",
              "    <tr>\n",
              "      <th>4</th>\n",
              "      <td>8438876</td>\n",
              "      <td>5E91CF19B8BEBA58A90E54EC97AAB3AF</td>\n",
              "      <td>5066bca0a00273cf3925b0c2f260f763</td>\n",
              "      <td>2020-01-21 10:48:33</td>\n",
              "      <td>saved</td>\n",
              "      <td>81</td>\n",
              "      <td>9</td>\n",
              "      <td>10</td>\n",
              "      <td>Tue</td>\n",
              "      <td>Jan</td>\n",
              "      <td>20</td>\n",
              "      <td>1</td>\n",
              "      <td>0</td>\n",
              "      <td>0</td>\n",
              "      <td>Contrax Weekly</td>\n",
              "      <td>notice</td>\n",
              "      <td>services</td>\n",
              "      <td>['72000000', '72263000', '72300000']</td>\n",
              "      <td>1</td>\n",
              "    </tr>\n",
              "  </tbody>\n",
              "</table>\n",
              "</div>"
            ],
            "text/plain": [
              "         user  ... #cpv45\n",
              "0     8438057  ...      1\n",
              "1     8438876  ...      2\n",
              "2   922102585  ...      2\n",
              "3  2105483652  ...      2\n",
              "4     8438876  ...      1\n",
              "\n",
              "[5 rows x 19 columns]"
            ]
          },
          "metadata": {
            "tags": []
          },
          "execution_count": 4
        }
      ]
    },
    {
      "cell_type": "code",
      "metadata": {
        "colab": {
          "base_uri": "https://localhost:8080/"
        },
        "id": "G2IgXppMOz_7",
        "outputId": "aeb5c8a5-2a7a-49c0-ef39-cc1d53b5c41d"
      },
      "source": [
        "# first 5 rows of the test set\n",
        "test.head()"
      ],
      "execution_count": null,
      "outputs": [
        {
          "output_type": "execute_result",
          "data": {
            "text/html": [
              "<div>\n",
              "<style scoped>\n",
              "    .dataframe tbody tr th:only-of-type {\n",
              "        vertical-align: middle;\n",
              "    }\n",
              "\n",
              "    .dataframe tbody tr th {\n",
              "        vertical-align: top;\n",
              "    }\n",
              "\n",
              "    .dataframe thead th {\n",
              "        text-align: right;\n",
              "    }\n",
              "</style>\n",
              "<table border=\"1\" class=\"dataframe\">\n",
              "  <thead>\n",
              "    <tr style=\"text-align: right;\">\n",
              "      <th></th>\n",
              "      <th>user</th>\n",
              "      <th>session</th>\n",
              "      <th>query</th>\n",
              "      <th>timestamp</th>\n",
              "      <th>search</th>\n",
              "      <th>rank</th>\n",
              "      <th>serp</th>\n",
              "      <th>hour</th>\n",
              "      <th>day</th>\n",
              "      <th>month</th>\n",
              "      <th>dwell</th>\n",
              "      <th>new-sub</th>\n",
              "      <th>premium-pack</th>\n",
              "      <th>source</th>\n",
              "      <th>type</th>\n",
              "      <th>nature</th>\n",
              "      <th>cpvs</th>\n",
              "      <th>#cpv45</th>\n",
              "      <th>Id</th>\n",
              "    </tr>\n",
              "  </thead>\n",
              "  <tbody>\n",
              "    <tr>\n",
              "      <th>0</th>\n",
              "      <td>2096178939</td>\n",
              "      <td>3C5FDDE0DBC2E5E812A8DFFAB3491DAA</td>\n",
              "      <td>c71cdfc115f151060c9671fc816cff25</td>\n",
              "      <td>2020-01-21 12:34:56</td>\n",
              "      <td>advanced</td>\n",
              "      <td>2</td>\n",
              "      <td>1</td>\n",
              "      <td>12</td>\n",
              "      <td>Tue</td>\n",
              "      <td>Jan</td>\n",
              "      <td>122</td>\n",
              "      <td>0</td>\n",
              "      <td>0</td>\n",
              "      <td>Contrax Weekly</td>\n",
              "      <td>notice</td>\n",
              "      <td>services</td>\n",
              "      <td>['73110000']</td>\n",
              "      <td>1</td>\n",
              "      <td>0</td>\n",
              "    </tr>\n",
              "    <tr>\n",
              "      <th>1</th>\n",
              "      <td>2096178939</td>\n",
              "      <td>B9D21C26929EF384ABBB6B544FB38858</td>\n",
              "      <td>c71cdfc115f151060c9671fc816cff25</td>\n",
              "      <td>2020-01-21 17:33:56</td>\n",
              "      <td>advanced</td>\n",
              "      <td>8</td>\n",
              "      <td>1</td>\n",
              "      <td>17</td>\n",
              "      <td>Tue</td>\n",
              "      <td>Jan</td>\n",
              "      <td>8</td>\n",
              "      <td>0</td>\n",
              "      <td>0</td>\n",
              "      <td>Project</td>\n",
              "      <td>award</td>\n",
              "      <td>services</td>\n",
              "      <td>['79311000']</td>\n",
              "      <td>1</td>\n",
              "      <td>1</td>\n",
              "    </tr>\n",
              "    <tr>\n",
              "      <th>2</th>\n",
              "      <td>2096178939</td>\n",
              "      <td>B9D21C26929EF384ABBB6B544FB38858</td>\n",
              "      <td>c71cdfc115f151060c9671fc816cff25</td>\n",
              "      <td>2020-01-21 17:34:04</td>\n",
              "      <td>advanced</td>\n",
              "      <td>7</td>\n",
              "      <td>1</td>\n",
              "      <td>17</td>\n",
              "      <td>Tue</td>\n",
              "      <td>Jan</td>\n",
              "      <td>26</td>\n",
              "      <td>0</td>\n",
              "      <td>0</td>\n",
              "      <td>PCS</td>\n",
              "      <td>notice</td>\n",
              "      <td>services</td>\n",
              "      <td>['73110000']</td>\n",
              "      <td>1</td>\n",
              "      <td>2</td>\n",
              "    </tr>\n",
              "    <tr>\n",
              "      <th>3</th>\n",
              "      <td>2096178939</td>\n",
              "      <td>B9D21C26929EF384ABBB6B544FB38858</td>\n",
              "      <td>c71cdfc115f151060c9671fc816cff25</td>\n",
              "      <td>2020-01-21 17:34:36</td>\n",
              "      <td>advanced</td>\n",
              "      <td>3</td>\n",
              "      <td>1</td>\n",
              "      <td>17</td>\n",
              "      <td>Tue</td>\n",
              "      <td>Jan</td>\n",
              "      <td>6</td>\n",
              "      <td>0</td>\n",
              "      <td>0</td>\n",
              "      <td>Contrax Weekly</td>\n",
              "      <td>notice</td>\n",
              "      <td>services</td>\n",
              "      <td>['73110000', '85100000']</td>\n",
              "      <td>2</td>\n",
              "      <td>3</td>\n",
              "    </tr>\n",
              "    <tr>\n",
              "      <th>4</th>\n",
              "      <td>2096178939</td>\n",
              "      <td>71182AF6B9BCB557CFA9402F6CD97361</td>\n",
              "      <td>c5b7b023e9c78c403d621025a715a95c</td>\n",
              "      <td>2020-01-22 09:34:49</td>\n",
              "      <td>advanced</td>\n",
              "      <td>1</td>\n",
              "      <td>1</td>\n",
              "      <td>9</td>\n",
              "      <td>Wed</td>\n",
              "      <td>Jan</td>\n",
              "      <td>1531</td>\n",
              "      <td>0</td>\n",
              "      <td>0</td>\n",
              "      <td>Contracts Finder</td>\n",
              "      <td>award</td>\n",
              "      <td>services</td>\n",
              "      <td>['79310000']</td>\n",
              "      <td>1</td>\n",
              "      <td>4</td>\n",
              "    </tr>\n",
              "  </tbody>\n",
              "</table>\n",
              "</div>"
            ],
            "text/plain": [
              "         user                           session  ... #cpv45 Id\n",
              "0  2096178939  3C5FDDE0DBC2E5E812A8DFFAB3491DAA  ...      1  0\n",
              "1  2096178939  B9D21C26929EF384ABBB6B544FB38858  ...      1  1\n",
              "2  2096178939  B9D21C26929EF384ABBB6B544FB38858  ...      1  2\n",
              "3  2096178939  B9D21C26929EF384ABBB6B544FB38858  ...      2  3\n",
              "4  2096178939  71182AF6B9BCB557CFA9402F6CD97361  ...      1  4\n",
              "\n",
              "[5 rows x 19 columns]"
            ]
          },
          "metadata": {
            "tags": []
          },
          "execution_count": 5
        }
      ]
    },
    {
      "cell_type": "code",
      "metadata": {
        "colab": {
          "base_uri": "https://localhost:8080/"
        },
        "id": "32sNIBpiOuY7",
        "outputId": "4f64678d-7d8c-44a2-c8db-6717a9000cf6"
      },
      "source": [
        "print('***** Training set ******')\n",
        "print('*************************')\n",
        "train.info()\n",
        "print('***** Test set ******')\n",
        "print('*************************')\n",
        "test.info()"
      ],
      "execution_count": null,
      "outputs": [
        {
          "output_type": "stream",
          "text": [
            "***** Training set ******\n",
            "*************************\n",
            "<class 'pandas.core.frame.DataFrame'>\n",
            "RangeIndex: 33000 entries, 0 to 32999\n",
            "Data columns (total 19 columns):\n",
            " #   Column        Non-Null Count  Dtype \n",
            "---  ------        --------------  ----- \n",
            " 0   user          33000 non-null  int64 \n",
            " 1   session       33000 non-null  object\n",
            " 2   query         33000 non-null  object\n",
            " 3   timestamp     33000 non-null  object\n",
            " 4   search        33000 non-null  object\n",
            " 5   rank          33000 non-null  int64 \n",
            " 6   serp          33000 non-null  int64 \n",
            " 7   hour          33000 non-null  int64 \n",
            " 8   day           33000 non-null  object\n",
            " 9   month         33000 non-null  object\n",
            " 10  dwell         33000 non-null  int64 \n",
            " 11  new-sub       33000 non-null  int64 \n",
            " 12  premium-pack  33000 non-null  int64 \n",
            " 13  psrel         33000 non-null  int64 \n",
            " 14  source        33000 non-null  object\n",
            " 15  type          33000 non-null  object\n",
            " 16  nature        21598 non-null  object\n",
            " 17  cpvs          33000 non-null  object\n",
            " 18  #cpv45        33000 non-null  int64 \n",
            "dtypes: int64(9), object(10)\n",
            "memory usage: 4.8+ MB\n",
            "***** Test set ******\n",
            "*************************\n",
            "<class 'pandas.core.frame.DataFrame'>\n",
            "RangeIndex: 5000 entries, 0 to 4999\n",
            "Data columns (total 19 columns):\n",
            " #   Column        Non-Null Count  Dtype \n",
            "---  ------        --------------  ----- \n",
            " 0   user          5000 non-null   int64 \n",
            " 1   session       5000 non-null   object\n",
            " 2   query         5000 non-null   object\n",
            " 3   timestamp     5000 non-null   object\n",
            " 4   search        5000 non-null   object\n",
            " 5   rank          5000 non-null   int64 \n",
            " 6   serp          5000 non-null   int64 \n",
            " 7   hour          5000 non-null   int64 \n",
            " 8   day           5000 non-null   object\n",
            " 9   month         5000 non-null   object\n",
            " 10  dwell         5000 non-null   int64 \n",
            " 11  new-sub       5000 non-null   int64 \n",
            " 12  premium-pack  5000 non-null   int64 \n",
            " 13  source        5000 non-null   object\n",
            " 14  type          5000 non-null   object\n",
            " 15  nature        4281 non-null   object\n",
            " 16  cpvs          5000 non-null   object\n",
            " 17  #cpv45        5000 non-null   int64 \n",
            " 18  Id            5000 non-null   int64 \n",
            "dtypes: int64(9), object(10)\n",
            "memory usage: 742.3+ KB\n"
          ],
          "name": "stdout"
        }
      ]
    },
    {
      "cell_type": "code",
      "metadata": {
        "id": "cTPpl3Tad_PX"
      },
      "source": [
        "# dropping uneccesary columns\n",
        "test1 = test.drop(['Id','user','session','query','timestamp'] ,axis=1)\n",
        "train = train.drop(['user','session','query','timestamp'] ,axis=1)"
      ],
      "execution_count": null,
      "outputs": []
    },
    {
      "cell_type": "markdown",
      "metadata": {
        "id": "knsyEY4VjgJB"
      },
      "source": [
        "##Train data"
      ]
    },
    {
      "cell_type": "markdown",
      "metadata": {
        "id": "qMuYgGDVldTe"
      },
      "source": [
        "## Numerical variables\n",
        "\n",
        "\n",
        "\n"
      ]
    },
    {
      "cell_type": "code",
      "metadata": {
        "colab": {
          "base_uri": "https://localhost:8080/"
        },
        "id": "CJjn9EQNuZDr",
        "outputId": "55a24305-6ec2-4f9e-beda-e2575adb8d2f"
      },
      "source": [
        "# Boxplots of Numeric variables\n",
        "train.plot(kind='box', subplots=True, layout=(5,5), grid='True', figsize=(15, 10))\n",
        "plt.show()"
      ],
      "execution_count": null,
      "outputs": [
        {
          "output_type": "display_data",
          "data": {
            "image/png": "[encoded data removed]",
            "text/plain": [
              "<Figure size 1080x720 with 25 Axes>"
            ]
          },
          "metadata": {
            "tags": [],
            "needs_background": "light"
          }
        }
      ]
    },
    {
      "cell_type": "code",
      "metadata": {
        "colab": {
          "base_uri": "https://localhost:8080/"
        },
        "id": "7-iymK5xeeKe",
        "outputId": "e9403814-da6e-433b-fce3-08c292f56e0b"
      },
      "source": [
        "train.describe() # distribution of numeric variables"
      ],
      "execution_count": null,
      "outputs": [
        {
          "output_type": "execute_result",
          "data": {
            "text/html": [
              "<div>\n",
              "<style scoped>\n",
              "    .dataframe tbody tr th:only-of-type {\n",
              "        vertical-align: middle;\n",
              "    }\n",
              "\n",
              "    .dataframe tbody tr th {\n",
              "        vertical-align: top;\n",
              "    }\n",
              "\n",
              "    .dataframe thead th {\n",
              "        text-align: right;\n",
              "    }\n",
              "</style>\n",
              "<table border=\"1\" class=\"dataframe\">\n",
              "  <thead>\n",
              "    <tr style=\"text-align: right;\">\n",
              "      <th></th>\n",
              "      <th>rank</th>\n",
              "      <th>serp</th>\n",
              "      <th>hour</th>\n",
              "      <th>dwell</th>\n",
              "      <th>new-sub</th>\n",
              "      <th>premium-pack</th>\n",
              "      <th>psrel</th>\n",
              "      <th>#cpv45</th>\n",
              "    </tr>\n",
              "  </thead>\n",
              "  <tbody>\n",
              "    <tr>\n",
              "      <th>count</th>\n",
              "      <td>33000.000000</td>\n",
              "      <td>33000.000000</td>\n",
              "      <td>33000.000000</td>\n",
              "      <td>33000.000000</td>\n",
              "      <td>33000.000000</td>\n",
              "      <td>33000.000000</td>\n",
              "      <td>33000.000000</td>\n",
              "      <td>33000.000000</td>\n",
              "    </tr>\n",
              "    <tr>\n",
              "      <th>mean</th>\n",
              "      <td>33.001697</td>\n",
              "      <td>2.125667</td>\n",
              "      <td>11.576848</td>\n",
              "      <td>73.164091</td>\n",
              "      <td>0.796818</td>\n",
              "      <td>0.189970</td>\n",
              "      <td>0.059455</td>\n",
              "      <td>1.597727</td>\n",
              "    </tr>\n",
              "    <tr>\n",
              "      <th>std</th>\n",
              "      <td>106.874572</td>\n",
              "      <td>5.116320</td>\n",
              "      <td>3.360440</td>\n",
              "      <td>197.610658</td>\n",
              "      <td>0.402373</td>\n",
              "      <td>0.392283</td>\n",
              "      <td>0.236477</td>\n",
              "      <td>1.547953</td>\n",
              "    </tr>\n",
              "    <tr>\n",
              "      <th>min</th>\n",
              "      <td>1.000000</td>\n",
              "      <td>1.000000</td>\n",
              "      <td>0.000000</td>\n",
              "      <td>0.000000</td>\n",
              "      <td>0.000000</td>\n",
              "      <td>0.000000</td>\n",
              "      <td>0.000000</td>\n",
              "      <td>0.000000</td>\n",
              "    </tr>\n",
              "    <tr>\n",
              "      <th>25%</th>\n",
              "      <td>2.000000</td>\n",
              "      <td>1.000000</td>\n",
              "      <td>9.000000</td>\n",
              "      <td>3.000000</td>\n",
              "      <td>1.000000</td>\n",
              "      <td>0.000000</td>\n",
              "      <td>0.000000</td>\n",
              "      <td>1.000000</td>\n",
              "    </tr>\n",
              "    <tr>\n",
              "      <th>50%</th>\n",
              "      <td>7.000000</td>\n",
              "      <td>1.000000</td>\n",
              "      <td>11.000000</td>\n",
              "      <td>11.000000</td>\n",
              "      <td>1.000000</td>\n",
              "      <td>0.000000</td>\n",
              "      <td>0.000000</td>\n",
              "      <td>1.000000</td>\n",
              "    </tr>\n",
              "    <tr>\n",
              "      <th>75%</th>\n",
              "      <td>25.000000</td>\n",
              "      <td>1.000000</td>\n",
              "      <td>14.000000</td>\n",
              "      <td>42.000000</td>\n",
              "      <td>1.000000</td>\n",
              "      <td>0.000000</td>\n",
              "      <td>0.000000</td>\n",
              "      <td>2.000000</td>\n",
              "    </tr>\n",
              "    <tr>\n",
              "      <th>max</th>\n",
              "      <td>5224.000000</td>\n",
              "      <td>262.000000</td>\n",
              "      <td>23.000000</td>\n",
              "      <td>2678.000000</td>\n",
              "      <td>1.000000</td>\n",
              "      <td>1.000000</td>\n",
              "      <td>1.000000</td>\n",
              "      <td>45.000000</td>\n",
              "    </tr>\n",
              "  </tbody>\n",
              "</table>\n",
              "</div>"
            ],
            "text/plain": [
              "               rank          serp  ...         psrel        #cpv45\n",
              "count  33000.000000  33000.000000  ...  33000.000000  33000.000000\n",
              "mean      33.001697      2.125667  ...      0.059455      1.597727\n",
              "std      106.874572      5.116320  ...      0.236477      1.547953\n",
              "min        1.000000      1.000000  ...      0.000000      0.000000\n",
              "25%        2.000000      1.000000  ...      0.000000      1.000000\n",
              "50%        7.000000      1.000000  ...      0.000000      1.000000\n",
              "75%       25.000000      1.000000  ...      0.000000      2.000000\n",
              "max     5224.000000    262.000000  ...      1.000000     45.000000\n",
              "\n",
              "[8 rows x 8 columns]"
            ]
          },
          "metadata": {
            "tags": []
          },
          "execution_count": 9
        }
      ]
    },
    {
      "cell_type": "code",
      "metadata": {
        "colab": {
          "base_uri": "https://localhost:8080/"
        },
        "id": "DZOTX_Snfdte",
        "outputId": "afc6cd16-6770-45b4-df0a-1a4ef4e7913a"
      },
      "source": [
        "# removing outliers from rank\n",
        "IQR=train['rank'].quantile(0.75)-train['rank'].quantile(0.25) \n",
        "\n",
        "lower_band=train['rank'].quantile(0.25)-(IQR*3)\n",
        "upper_band=train['rank'].quantile(0.75)+(IQR*3)\n",
        "print(lower_band), print(upper_band)"
      ],
      "execution_count": null,
      "outputs": [
        {
          "output_type": "stream",
          "text": [
            "-67.0\n",
            "94.0\n"
          ],
          "name": "stdout"
        },
        {
          "output_type": "execute_result",
          "data": {
            "text/plain": [
              "(None, None)"
            ]
          },
          "metadata": {
            "tags": []
          },
          "execution_count": 10
        }
      ]
    },
    {
      "cell_type": "code",
      "metadata": {
        "id": "QFYBO27dgVCu"
      },
      "source": [
        "train.loc[train['rank']>=94,'rank']=94 "
      ],
      "execution_count": null,
      "outputs": []
    },
    {
      "cell_type": "code",
      "metadata": {
        "colab": {
          "base_uri": "https://localhost:8080/"
        },
        "id": "Frubfk-igyFS",
        "outputId": "0e71ebd7-fa30-4657-d734-bfbe73c7a574"
      },
      "source": [
        "# removing outliers from serp\n",
        "IQR=train['serp'].quantile(0.75)-train['serp'].quantile(0.25) \n",
        "\n",
        "lower_band=train['serp'].quantile(0.25)-(IQR*3)\n",
        "upper_band=train['serp'].quantile(0.75)+(IQR*3)\n",
        "print(lower_band), print(upper_band)"
      ],
      "execution_count": null,
      "outputs": [
        {
          "output_type": "stream",
          "text": [
            "1.0\n",
            "1.0\n"
          ],
          "name": "stdout"
        },
        {
          "output_type": "execute_result",
          "data": {
            "text/plain": [
              "(None, None)"
            ]
          },
          "metadata": {
            "tags": []
          },
          "execution_count": 12
        }
      ]
    },
    {
      "cell_type": "code",
      "metadata": {
        "id": "C2T8C-aYgyKo"
      },
      "source": [
        "train.loc[train['serp']>=1,'serp']=1"
      ],
      "execution_count": null,
      "outputs": []
    },
    {
      "cell_type": "code",
      "metadata": {
        "colab": {
          "base_uri": "https://localhost:8080/"
        },
        "id": "i8Fs_BA8hfAr",
        "outputId": "4205a312-18ac-4940-f899-4450c22c97ab"
      },
      "source": [
        "# removing outliers from dwell\n",
        "IQR=train['dwell'].quantile(0.75)-train['dwell'].quantile(0.25) \n",
        "\n",
        "lower_band=train['dwell'].quantile(0.25)-(IQR*3)\n",
        "upper_band=train['dwell'].quantile(0.75)+(IQR*3)\n",
        "print(lower_band), print(upper_band)"
      ],
      "execution_count": null,
      "outputs": [
        {
          "output_type": "stream",
          "text": [
            "-114.0\n",
            "159.0\n"
          ],
          "name": "stdout"
        },
        {
          "output_type": "execute_result",
          "data": {
            "text/plain": [
              "(None, None)"
            ]
          },
          "metadata": {
            "tags": []
          },
          "execution_count": 14
        }
      ]
    },
    {
      "cell_type": "code",
      "metadata": {
        "id": "lZf_RifviO7K"
      },
      "source": [
        "train.loc[train['dwell']>=159,'dwell']=159 #replacing outliers "
      ],
      "execution_count": null,
      "outputs": []
    },
    {
      "cell_type": "code",
      "metadata": {
        "colab": {
          "base_uri": "https://localhost:8080/"
        },
        "id": "ucFE1S1GiPDs",
        "outputId": "0fac4b51-e73e-415a-bef0-083dfcbf91bb"
      },
      "source": [
        "# removing outliers from #cpv45\n",
        "IQR=train['#cpv45'].quantile(0.75)-train['#cpv45'].quantile(0.25) \n",
        "\n",
        "lower_band=train['#cpv45'].quantile(0.25)-(IQR*3)\n",
        "upper_band=train['#cpv45'].quantile(0.75)+(IQR*3)\n",
        "print(lower_band), print(upper_band)"
      ],
      "execution_count": null,
      "outputs": [
        {
          "output_type": "stream",
          "text": [
            "-2.0\n",
            "5.0\n"
          ],
          "name": "stdout"
        },
        {
          "output_type": "execute_result",
          "data": {
            "text/plain": [
              "(None, None)"
            ]
          },
          "metadata": {
            "tags": []
          },
          "execution_count": 16
        }
      ]
    },
    {
      "cell_type": "code",
      "metadata": {
        "id": "vANlELxXjBGT"
      },
      "source": [
        "train.loc[train['#cpv45']>=5,'#cpv45']=5"
      ],
      "execution_count": null,
      "outputs": []
    },
    {
      "cell_type": "markdown",
      "metadata": {
        "id": "vNey8qbGlt1J"
      },
      "source": [
        "## Categorical variables"
      ]
    },
    {
      "cell_type": "code",
      "metadata": {
        "colab": {
          "base_uri": "https://localhost:8080/"
        },
        "id": "ryKj3RoDmkiW",
        "outputId": "c5b8b4a4-1d57-4a09-f9ab-614e955796fe"
      },
      "source": [
        "categorical_features=[feature for feature in train.columns if train[feature].dtypes=='O']\n",
        "categorical_features"
      ],
      "execution_count": null,
      "outputs": [
        {
          "output_type": "execute_result",
          "data": {
            "text/plain": [
              "['search', 'day', 'month', 'source', 'type', 'nature', 'cpvs']"
            ]
          },
          "metadata": {
            "tags": []
          },
          "execution_count": 18
        }
      ]
    },
    {
      "cell_type": "code",
      "metadata": {
        "id": "Yg2z1nIWqhk-"
      },
      "source": [
        "train = train.fillna({\"nature\": \"none\"}) # create a new category for the missing values so everything nan will go to category none\n",
        "test1 = test1.fillna({\"nature\": \"none\"})"
      ],
      "execution_count": null,
      "outputs": []
    },
    {
      "cell_type": "code",
      "metadata": {
        "colab": {
          "base_uri": "https://localhost:8080/"
        },
        "id": "-d5WxNFtmklC",
        "outputId": "b2d4eefb-7b36-4af7-cc2a-1cde4f4ed33d"
      },
      "source": [
        "labelencoder = LabelEncoder()\n",
        "# encoding categorical values\n",
        "train['search'] = labelencoder.fit_transform(train['search'])\n",
        "train['day'] = labelencoder.fit_transform(train['day'])\n",
        "train['month'] = labelencoder.fit_transform(train['month'])\n",
        "train['source'] = labelencoder.fit_transform(train['source'])\n",
        "train['type'] = labelencoder.fit_transform(train['type'])\n",
        "train['nature'] = labelencoder.fit_transform(train['nature'])\n",
        "train['cpvs'] = labelencoder.fit_transform(train['cpvs'])\n",
        "train\n"
      ],
      "execution_count": null,
      "outputs": [
        {
          "output_type": "execute_result",
          "data": {
            "text/html": [
              "<div>\n",
              "<style scoped>\n",
              "    .dataframe tbody tr th:only-of-type {\n",
              "        vertical-align: middle;\n",
              "    }\n",
              "\n",
              "    .dataframe tbody tr th {\n",
              "        vertical-align: top;\n",
              "    }\n",
              "\n",
              "    .dataframe thead th {\n",
              "        text-align: right;\n",
              "    }\n",
              "</style>\n",
              "<table border=\"1\" class=\"dataframe\">\n",
              "  <thead>\n",
              "    <tr style=\"text-align: right;\">\n",
              "      <th></th>\n",
              "      <th>search</th>\n",
              "      <th>rank</th>\n",
              "      <th>serp</th>\n",
              "      <th>hour</th>\n",
              "      <th>day</th>\n",
              "      <th>month</th>\n",
              "      <th>dwell</th>\n",
              "      <th>new-sub</th>\n",
              "      <th>premium-pack</th>\n",
              "      <th>psrel</th>\n",
              "      <th>source</th>\n",
              "      <th>type</th>\n",
              "      <th>nature</th>\n",
              "      <th>cpvs</th>\n",
              "      <th>#cpv45</th>\n",
              "    </tr>\n",
              "  </thead>\n",
              "  <tbody>\n",
              "    <tr>\n",
              "      <th>0</th>\n",
              "      <td>2</td>\n",
              "      <td>1</td>\n",
              "      <td>1</td>\n",
              "      <td>10</td>\n",
              "      <td>5</td>\n",
              "      <td>5</td>\n",
              "      <td>1</td>\n",
              "      <td>1</td>\n",
              "      <td>0</td>\n",
              "      <td>0</td>\n",
              "      <td>7</td>\n",
              "      <td>2</td>\n",
              "      <td>1</td>\n",
              "      <td>6540</td>\n",
              "      <td>1</td>\n",
              "    </tr>\n",
              "    <tr>\n",
              "      <th>1</th>\n",
              "      <td>3</td>\n",
              "      <td>75</td>\n",
              "      <td>1</td>\n",
              "      <td>10</td>\n",
              "      <td>5</td>\n",
              "      <td>2</td>\n",
              "      <td>10</td>\n",
              "      <td>1</td>\n",
              "      <td>0</td>\n",
              "      <td>0</td>\n",
              "      <td>1</td>\n",
              "      <td>2</td>\n",
              "      <td>1</td>\n",
              "      <td>8590</td>\n",
              "      <td>2</td>\n",
              "    </tr>\n",
              "    <tr>\n",
              "      <th>2</th>\n",
              "      <td>0</td>\n",
              "      <td>4</td>\n",
              "      <td>1</td>\n",
              "      <td>9</td>\n",
              "      <td>6</td>\n",
              "      <td>1</td>\n",
              "      <td>21</td>\n",
              "      <td>1</td>\n",
              "      <td>0</td>\n",
              "      <td>0</td>\n",
              "      <td>1</td>\n",
              "      <td>2</td>\n",
              "      <td>1</td>\n",
              "      <td>8590</td>\n",
              "      <td>2</td>\n",
              "    </tr>\n",
              "    <tr>\n",
              "      <th>3</th>\n",
              "      <td>0</td>\n",
              "      <td>66</td>\n",
              "      <td>1</td>\n",
              "      <td>14</td>\n",
              "      <td>5</td>\n",
              "      <td>2</td>\n",
              "      <td>21</td>\n",
              "      <td>0</td>\n",
              "      <td>0</td>\n",
              "      <td>0</td>\n",
              "      <td>1</td>\n",
              "      <td>2</td>\n",
              "      <td>1</td>\n",
              "      <td>8590</td>\n",
              "      <td>2</td>\n",
              "    </tr>\n",
              "    <tr>\n",
              "      <th>4</th>\n",
              "      <td>3</td>\n",
              "      <td>81</td>\n",
              "      <td>1</td>\n",
              "      <td>10</td>\n",
              "      <td>5</td>\n",
              "      <td>2</td>\n",
              "      <td>20</td>\n",
              "      <td>1</td>\n",
              "      <td>0</td>\n",
              "      <td>0</td>\n",
              "      <td>1</td>\n",
              "      <td>2</td>\n",
              "      <td>1</td>\n",
              "      <td>7540</td>\n",
              "      <td>1</td>\n",
              "    </tr>\n",
              "    <tr>\n",
              "      <th>...</th>\n",
              "      <td>...</td>\n",
              "      <td>...</td>\n",
              "      <td>...</td>\n",
              "      <td>...</td>\n",
              "      <td>...</td>\n",
              "      <td>...</td>\n",
              "      <td>...</td>\n",
              "      <td>...</td>\n",
              "      <td>...</td>\n",
              "      <td>...</td>\n",
              "      <td>...</td>\n",
              "      <td>...</td>\n",
              "      <td>...</td>\n",
              "      <td>...</td>\n",
              "      <td>...</td>\n",
              "    </tr>\n",
              "    <tr>\n",
              "      <th>32995</th>\n",
              "      <td>2</td>\n",
              "      <td>42</td>\n",
              "      <td>1</td>\n",
              "      <td>10</td>\n",
              "      <td>1</td>\n",
              "      <td>3</td>\n",
              "      <td>52</td>\n",
              "      <td>1</td>\n",
              "      <td>0</td>\n",
              "      <td>0</td>\n",
              "      <td>6</td>\n",
              "      <td>2</td>\n",
              "      <td>0</td>\n",
              "      <td>3790</td>\n",
              "      <td>1</td>\n",
              "    </tr>\n",
              "    <tr>\n",
              "      <th>32996</th>\n",
              "      <td>2</td>\n",
              "      <td>43</td>\n",
              "      <td>1</td>\n",
              "      <td>10</td>\n",
              "      <td>1</td>\n",
              "      <td>3</td>\n",
              "      <td>15</td>\n",
              "      <td>1</td>\n",
              "      <td>0</td>\n",
              "      <td>0</td>\n",
              "      <td>6</td>\n",
              "      <td>2</td>\n",
              "      <td>0</td>\n",
              "      <td>4845</td>\n",
              "      <td>1</td>\n",
              "    </tr>\n",
              "    <tr>\n",
              "      <th>32997</th>\n",
              "      <td>2</td>\n",
              "      <td>45</td>\n",
              "      <td>1</td>\n",
              "      <td>10</td>\n",
              "      <td>1</td>\n",
              "      <td>3</td>\n",
              "      <td>159</td>\n",
              "      <td>1</td>\n",
              "      <td>0</td>\n",
              "      <td>0</td>\n",
              "      <td>6</td>\n",
              "      <td>2</td>\n",
              "      <td>0</td>\n",
              "      <td>3158</td>\n",
              "      <td>2</td>\n",
              "    </tr>\n",
              "    <tr>\n",
              "      <th>32998</th>\n",
              "      <td>2</td>\n",
              "      <td>46</td>\n",
              "      <td>1</td>\n",
              "      <td>10</td>\n",
              "      <td>1</td>\n",
              "      <td>3</td>\n",
              "      <td>11</td>\n",
              "      <td>1</td>\n",
              "      <td>0</td>\n",
              "      <td>0</td>\n",
              "      <td>6</td>\n",
              "      <td>2</td>\n",
              "      <td>0</td>\n",
              "      <td>3879</td>\n",
              "      <td>2</td>\n",
              "    </tr>\n",
              "    <tr>\n",
              "      <th>32999</th>\n",
              "      <td>2</td>\n",
              "      <td>48</td>\n",
              "      <td>1</td>\n",
              "      <td>10</td>\n",
              "      <td>1</td>\n",
              "      <td>3</td>\n",
              "      <td>5</td>\n",
              "      <td>1</td>\n",
              "      <td>0</td>\n",
              "      <td>0</td>\n",
              "      <td>6</td>\n",
              "      <td>2</td>\n",
              "      <td>0</td>\n",
              "      <td>4068</td>\n",
              "      <td>1</td>\n",
              "    </tr>\n",
              "  </tbody>\n",
              "</table>\n",
              "<p>33000 rows × 15 columns</p>\n",
              "</div>"
            ],
            "text/plain": [
              "       search  rank  serp  hour  day  ...  source  type  nature  cpvs  #cpv45\n",
              "0           2     1     1    10    5  ...       7     2       1  6540       1\n",
              "1           3    75     1    10    5  ...       1     2       1  8590       2\n",
              "2           0     4     1     9    6  ...       1     2       1  8590       2\n",
              "3           0    66     1    14    5  ...       1     2       1  8590       2\n",
              "4           3    81     1    10    5  ...       1     2       1  7540       1\n",
              "...       ...   ...   ...   ...  ...  ...     ...   ...     ...   ...     ...\n",
              "32995       2    42     1    10    1  ...       6     2       0  3790       1\n",
              "32996       2    43     1    10    1  ...       6     2       0  4845       1\n",
              "32997       2    45     1    10    1  ...       6     2       0  3158       2\n",
              "32998       2    46     1    10    1  ...       6     2       0  3879       2\n",
              "32999       2    48     1    10    1  ...       6     2       0  4068       1\n",
              "\n",
              "[33000 rows x 15 columns]"
            ]
          },
          "metadata": {
            "tags": []
          },
          "execution_count": 20
        }
      ]
    },
    {
      "cell_type": "markdown",
      "metadata": {
        "id": "SO0Ptu6AjsKV"
      },
      "source": [
        "## Test data"
      ]
    },
    {
      "cell_type": "markdown",
      "metadata": {
        "id": "bkoECRxIlnty"
      },
      "source": [
        "## Numerical variables"
      ]
    },
    {
      "cell_type": "code",
      "metadata": {
        "colab": {
          "base_uri": "https://localhost:8080/"
        },
        "id": "mtdnARExwFb8",
        "outputId": "5a829bcd-78f5-4783-83e5-14f4fd995879"
      },
      "source": [
        "# Boxplots of Numeric variables\n",
        "test1.plot(kind='box', subplots=True, layout=(5,5), grid='True', figsize=(15, 10))\n",
        "plt.show()"
      ],
      "execution_count": null,
      "outputs": [
        {
          "output_type": "display_data",
          "data": {
            "image/png": "[encoded data removed]",
            "text/plain": [
              "<Figure size 1080x720 with 25 Axes>"
            ]
          },
          "metadata": {
            "tags": [],
            "needs_background": "light"
          }
        }
      ]
    },
    {
      "cell_type": "code",
      "metadata": {
        "colab": {
          "base_uri": "https://localhost:8080/"
        },
        "id": "JM02vzfCxJM7",
        "outputId": "91c892f7-e32e-4807-f850-7611275841f9"
      },
      "source": [
        "test1.describe() # distribution of numeric variables"
      ],
      "execution_count": null,
      "outputs": [
        {
          "output_type": "execute_result",
          "data": {
            "text/html": [
              "<div>\n",
              "<style scoped>\n",
              "    .dataframe tbody tr th:only-of-type {\n",
              "        vertical-align: middle;\n",
              "    }\n",
              "\n",
              "    .dataframe tbody tr th {\n",
              "        vertical-align: top;\n",
              "    }\n",
              "\n",
              "    .dataframe thead th {\n",
              "        text-align: right;\n",
              "    }\n",
              "</style>\n",
              "<table border=\"1\" class=\"dataframe\">\n",
              "  <thead>\n",
              "    <tr style=\"text-align: right;\">\n",
              "      <th></th>\n",
              "      <th>rank</th>\n",
              "      <th>serp</th>\n",
              "      <th>hour</th>\n",
              "      <th>dwell</th>\n",
              "      <th>new-sub</th>\n",
              "      <th>premium-pack</th>\n",
              "      <th>#cpv45</th>\n",
              "    </tr>\n",
              "  </thead>\n",
              "  <tbody>\n",
              "    <tr>\n",
              "      <th>count</th>\n",
              "      <td>5000.000000</td>\n",
              "      <td>5000.000000</td>\n",
              "      <td>5000.000000</td>\n",
              "      <td>5000.000000</td>\n",
              "      <td>5000.000000</td>\n",
              "      <td>5000.000000</td>\n",
              "      <td>5000.000000</td>\n",
              "    </tr>\n",
              "    <tr>\n",
              "      <th>mean</th>\n",
              "      <td>36.195400</td>\n",
              "      <td>2.295600</td>\n",
              "      <td>12.221000</td>\n",
              "      <td>71.557400</td>\n",
              "      <td>0.085400</td>\n",
              "      <td>0.482200</td>\n",
              "      <td>1.399600</td>\n",
              "    </tr>\n",
              "    <tr>\n",
              "      <th>std</th>\n",
              "      <td>137.447446</td>\n",
              "      <td>6.631517</td>\n",
              "      <td>3.669667</td>\n",
              "      <td>176.795176</td>\n",
              "      <td>0.279504</td>\n",
              "      <td>0.499733</td>\n",
              "      <td>1.121147</td>\n",
              "    </tr>\n",
              "    <tr>\n",
              "      <th>min</th>\n",
              "      <td>1.000000</td>\n",
              "      <td>1.000000</td>\n",
              "      <td>0.000000</td>\n",
              "      <td>0.000000</td>\n",
              "      <td>0.000000</td>\n",
              "      <td>0.000000</td>\n",
              "      <td>0.000000</td>\n",
              "    </tr>\n",
              "    <tr>\n",
              "      <th>25%</th>\n",
              "      <td>3.000000</td>\n",
              "      <td>1.000000</td>\n",
              "      <td>10.000000</td>\n",
              "      <td>6.000000</td>\n",
              "      <td>0.000000</td>\n",
              "      <td>0.000000</td>\n",
              "      <td>1.000000</td>\n",
              "    </tr>\n",
              "    <tr>\n",
              "      <th>50%</th>\n",
              "      <td>10.000000</td>\n",
              "      <td>1.000000</td>\n",
              "      <td>12.000000</td>\n",
              "      <td>19.000000</td>\n",
              "      <td>0.000000</td>\n",
              "      <td>0.000000</td>\n",
              "      <td>1.000000</td>\n",
              "    </tr>\n",
              "    <tr>\n",
              "      <th>75%</th>\n",
              "      <td>30.000000</td>\n",
              "      <td>2.000000</td>\n",
              "      <td>15.000000</td>\n",
              "      <td>53.000000</td>\n",
              "      <td>0.000000</td>\n",
              "      <td>1.000000</td>\n",
              "      <td>2.000000</td>\n",
              "    </tr>\n",
              "    <tr>\n",
              "      <th>max</th>\n",
              "      <td>5405.000000</td>\n",
              "      <td>271.000000</td>\n",
              "      <td>23.000000</td>\n",
              "      <td>1805.000000</td>\n",
              "      <td>1.000000</td>\n",
              "      <td>1.000000</td>\n",
              "      <td>25.000000</td>\n",
              "    </tr>\n",
              "  </tbody>\n",
              "</table>\n",
              "</div>"
            ],
            "text/plain": [
              "              rank         serp  ...  premium-pack       #cpv45\n",
              "count  5000.000000  5000.000000  ...   5000.000000  5000.000000\n",
              "mean     36.195400     2.295600  ...      0.482200     1.399600\n",
              "std     137.447446     6.631517  ...      0.499733     1.121147\n",
              "min       1.000000     1.000000  ...      0.000000     0.000000\n",
              "25%       3.000000     1.000000  ...      0.000000     1.000000\n",
              "50%      10.000000     1.000000  ...      0.000000     1.000000\n",
              "75%      30.000000     2.000000  ...      1.000000     2.000000\n",
              "max    5405.000000   271.000000  ...      1.000000    25.000000\n",
              "\n",
              "[8 rows x 7 columns]"
            ]
          },
          "metadata": {
            "tags": []
          },
          "execution_count": 22
        }
      ]
    },
    {
      "cell_type": "code",
      "metadata": {
        "colab": {
          "base_uri": "https://localhost:8080/"
        },
        "id": "fJucto0ojvKJ",
        "outputId": "47a49c72-2020-4aab-a646-d636ba83b483"
      },
      "source": [
        "# removing outliers from rank\n",
        "IQR=test1['rank'].quantile(0.75)-test1['rank'].quantile(0.25) \n",
        "\n",
        "lower_band=test1['rank'].quantile(0.25)-(IQR*3)\n",
        "upper_band=test1['rank'].quantile(0.75)+(IQR*3)\n",
        "print(lower_band), print(upper_band)"
      ],
      "execution_count": null,
      "outputs": [
        {
          "output_type": "stream",
          "text": [
            "-78.0\n",
            "111.0\n"
          ],
          "name": "stdout"
        },
        {
          "output_type": "execute_result",
          "data": {
            "text/plain": [
              "(None, None)"
            ]
          },
          "metadata": {
            "tags": []
          },
          "execution_count": 23
        }
      ]
    },
    {
      "cell_type": "code",
      "metadata": {
        "id": "ptf4eLYEjvNM"
      },
      "source": [
        "test1.loc[test1['rank']>=111,'rank']=111  "
      ],
      "execution_count": null,
      "outputs": []
    },
    {
      "cell_type": "code",
      "metadata": {
        "colab": {
          "base_uri": "https://localhost:8080/"
        },
        "id": "BWnHpBp2jvQM",
        "outputId": "ab23f0d7-6234-47a8-d607-e376cb3742cb"
      },
      "source": [
        "# removing outliers from serp\n",
        "IQR=test1['serp'].quantile(0.75)-test1['serp'].quantile(0.25) \n",
        "\n",
        "lower_band=test1['serp'].quantile(0.25)-(IQR*3)\n",
        "upper_band=test1['serp'].quantile(0.75)+(IQR*3)\n",
        "print(lower_band), print(upper_band)"
      ],
      "execution_count": null,
      "outputs": [
        {
          "output_type": "stream",
          "text": [
            "-2.0\n",
            "5.0\n"
          ],
          "name": "stdout"
        },
        {
          "output_type": "execute_result",
          "data": {
            "text/plain": [
              "(None, None)"
            ]
          },
          "metadata": {
            "tags": []
          },
          "execution_count": 25
        }
      ]
    },
    {
      "cell_type": "code",
      "metadata": {
        "id": "vNpFyNr9kWhe"
      },
      "source": [
        "test1.loc[test1['serp']>=5,'serp']=5 "
      ],
      "execution_count": null,
      "outputs": []
    },
    {
      "cell_type": "code",
      "metadata": {
        "colab": {
          "base_uri": "https://localhost:8080/"
        },
        "id": "7nBB8-CFkWkl",
        "outputId": "bec24d73-b93a-4f7f-98b9-d9272d4aab9c"
      },
      "source": [
        "# removing outliers from dwell\n",
        "IQR=test1['dwell'].quantile(0.75)-test1['serp'].quantile(0.25) \n",
        "\n",
        "lower_band=test1['dwell'].quantile(0.25)-(IQR*3)\n",
        "upper_band=test1['dwell'].quantile(0.75)+(IQR*3)\n",
        "print(lower_band), print(upper_band)"
      ],
      "execution_count": null,
      "outputs": [
        {
          "output_type": "stream",
          "text": [
            "-150.0\n",
            "209.0\n"
          ],
          "name": "stdout"
        },
        {
          "output_type": "execute_result",
          "data": {
            "text/plain": [
              "(None, None)"
            ]
          },
          "metadata": {
            "tags": []
          },
          "execution_count": 27
        }
      ]
    },
    {
      "cell_type": "code",
      "metadata": {
        "id": "BlP9it1ckWn4"
      },
      "source": [
        "test1.loc[test1['dwell']>=209,'dwell']=209 "
      ],
      "execution_count": null,
      "outputs": []
    },
    {
      "cell_type": "code",
      "metadata": {
        "colab": {
          "base_uri": "https://localhost:8080/"
        },
        "id": "Owv5ehq8kWqi",
        "outputId": "4d909695-c84c-4771-ca7a-5976edf0c267"
      },
      "source": [
        "# removing outliers from #cpv45\n",
        "IQR=test1['#cpv45'].quantile(0.75)-test1['serp'].quantile(0.25) \n",
        "\n",
        "lower_band=test1['#cpv45'].quantile(0.25)-(IQR*3)\n",
        "upper_band=test1['#cpv45'].quantile(0.75)+(IQR*3)\n",
        "print(lower_band), print(upper_band)"
      ],
      "execution_count": null,
      "outputs": [
        {
          "output_type": "stream",
          "text": [
            "-2.0\n",
            "5.0\n"
          ],
          "name": "stdout"
        },
        {
          "output_type": "execute_result",
          "data": {
            "text/plain": [
              "(None, None)"
            ]
          },
          "metadata": {
            "tags": []
          },
          "execution_count": 29
        }
      ]
    },
    {
      "cell_type": "code",
      "metadata": {
        "id": "7hqC8Je7kWuN"
      },
      "source": [
        "test1.loc[test['#cpv45']>=5,'#cpv45']=5 "
      ],
      "execution_count": null,
      "outputs": []
    },
    {
      "cell_type": "markdown",
      "metadata": {
        "id": "AwirgJLslyXM"
      },
      "source": [
        "## Categorical variables"
      ]
    },
    {
      "cell_type": "code",
      "metadata": {
        "colab": {
          "base_uri": "https://localhost:8080/"
        },
        "id": "Hb2h3s5hpl5K",
        "outputId": "9e365faf-63e7-47ef-9757-483c860ac58a"
      },
      "source": [
        "# Encoding categorical values\n",
        "test1['search'] = labelencoder.fit_transform(test1['search'])\n",
        "test1['day'] = labelencoder.fit_transform(test1['day'])\n",
        "test1['month'] = labelencoder.fit_transform(test1['month'])\n",
        "test1['source'] = labelencoder.fit_transform(test1['source'])\n",
        "test1['type'] = labelencoder.fit_transform(test1['type'])\n",
        "test1['nature'] = labelencoder.fit_transform(test1['nature'])\n",
        "test1['cpvs'] = labelencoder.fit_transform(test1['cpvs'])\n",
        "test1"
      ],
      "execution_count": null,
      "outputs": [
        {
          "output_type": "execute_result",
          "data": {
            "text/html": [
              "<div>\n",
              "<style scoped>\n",
              "    .dataframe tbody tr th:only-of-type {\n",
              "        vertical-align: middle;\n",
              "    }\n",
              "\n",
              "    .dataframe tbody tr th {\n",
              "        vertical-align: top;\n",
              "    }\n",
              "\n",
              "    .dataframe thead th {\n",
              "        text-align: right;\n",
              "    }\n",
              "</style>\n",
              "<table border=\"1\" class=\"dataframe\">\n",
              "  <thead>\n",
              "    <tr style=\"text-align: right;\">\n",
              "      <th></th>\n",
              "      <th>search</th>\n",
              "      <th>rank</th>\n",
              "      <th>serp</th>\n",
              "      <th>hour</th>\n",
              "      <th>day</th>\n",
              "      <th>month</th>\n",
              "      <th>dwell</th>\n",
              "      <th>new-sub</th>\n",
              "      <th>premium-pack</th>\n",
              "      <th>source</th>\n",
              "      <th>type</th>\n",
              "      <th>nature</th>\n",
              "      <th>cpvs</th>\n",
              "      <th>#cpv45</th>\n",
              "    </tr>\n",
              "  </thead>\n",
              "  <tbody>\n",
              "    <tr>\n",
              "      <th>0</th>\n",
              "      <td>0</td>\n",
              "      <td>2</td>\n",
              "      <td>1</td>\n",
              "      <td>12</td>\n",
              "      <td>5</td>\n",
              "      <td>2</td>\n",
              "      <td>122</td>\n",
              "      <td>0</td>\n",
              "      <td>0</td>\n",
              "      <td>1</td>\n",
              "      <td>2</td>\n",
              "      <td>1</td>\n",
              "      <td>2111</td>\n",
              "      <td>1</td>\n",
              "    </tr>\n",
              "    <tr>\n",
              "      <th>1</th>\n",
              "      <td>0</td>\n",
              "      <td>8</td>\n",
              "      <td>1</td>\n",
              "      <td>17</td>\n",
              "      <td>5</td>\n",
              "      <td>2</td>\n",
              "      <td>8</td>\n",
              "      <td>0</td>\n",
              "      <td>0</td>\n",
              "      <td>10</td>\n",
              "      <td>1</td>\n",
              "      <td>1</td>\n",
              "      <td>2249</td>\n",
              "      <td>1</td>\n",
              "    </tr>\n",
              "    <tr>\n",
              "      <th>2</th>\n",
              "      <td>0</td>\n",
              "      <td>7</td>\n",
              "      <td>1</td>\n",
              "      <td>17</td>\n",
              "      <td>5</td>\n",
              "      <td>2</td>\n",
              "      <td>26</td>\n",
              "      <td>0</td>\n",
              "      <td>0</td>\n",
              "      <td>9</td>\n",
              "      <td>2</td>\n",
              "      <td>1</td>\n",
              "      <td>2111</td>\n",
              "      <td>1</td>\n",
              "    </tr>\n",
              "    <tr>\n",
              "      <th>3</th>\n",
              "      <td>0</td>\n",
              "      <td>3</td>\n",
              "      <td>1</td>\n",
              "      <td>17</td>\n",
              "      <td>5</td>\n",
              "      <td>2</td>\n",
              "      <td>6</td>\n",
              "      <td>0</td>\n",
              "      <td>0</td>\n",
              "      <td>1</td>\n",
              "      <td>2</td>\n",
              "      <td>1</td>\n",
              "      <td>2110</td>\n",
              "      <td>2</td>\n",
              "    </tr>\n",
              "    <tr>\n",
              "      <th>4</th>\n",
              "      <td>0</td>\n",
              "      <td>1</td>\n",
              "      <td>1</td>\n",
              "      <td>9</td>\n",
              "      <td>6</td>\n",
              "      <td>2</td>\n",
              "      <td>209</td>\n",
              "      <td>0</td>\n",
              "      <td>0</td>\n",
              "      <td>0</td>\n",
              "      <td>1</td>\n",
              "      <td>1</td>\n",
              "      <td>2240</td>\n",
              "      <td>1</td>\n",
              "    </tr>\n",
              "    <tr>\n",
              "      <th>...</th>\n",
              "      <td>...</td>\n",
              "      <td>...</td>\n",
              "      <td>...</td>\n",
              "      <td>...</td>\n",
              "      <td>...</td>\n",
              "      <td>...</td>\n",
              "      <td>...</td>\n",
              "      <td>...</td>\n",
              "      <td>...</td>\n",
              "      <td>...</td>\n",
              "      <td>...</td>\n",
              "      <td>...</td>\n",
              "      <td>...</td>\n",
              "      <td>...</td>\n",
              "    </tr>\n",
              "    <tr>\n",
              "      <th>4995</th>\n",
              "      <td>0</td>\n",
              "      <td>23</td>\n",
              "      <td>2</td>\n",
              "      <td>22</td>\n",
              "      <td>5</td>\n",
              "      <td>3</td>\n",
              "      <td>1</td>\n",
              "      <td>0</td>\n",
              "      <td>1</td>\n",
              "      <td>11</td>\n",
              "      <td>2</td>\n",
              "      <td>2</td>\n",
              "      <td>377</td>\n",
              "      <td>2</td>\n",
              "    </tr>\n",
              "    <tr>\n",
              "      <th>4996</th>\n",
              "      <td>3</td>\n",
              "      <td>27</td>\n",
              "      <td>2</td>\n",
              "      <td>7</td>\n",
              "      <td>0</td>\n",
              "      <td>3</td>\n",
              "      <td>43</td>\n",
              "      <td>0</td>\n",
              "      <td>1</td>\n",
              "      <td>6</td>\n",
              "      <td>2</td>\n",
              "      <td>0</td>\n",
              "      <td>1117</td>\n",
              "      <td>1</td>\n",
              "    </tr>\n",
              "    <tr>\n",
              "      <th>4997</th>\n",
              "      <td>2</td>\n",
              "      <td>18</td>\n",
              "      <td>1</td>\n",
              "      <td>10</td>\n",
              "      <td>4</td>\n",
              "      <td>3</td>\n",
              "      <td>201</td>\n",
              "      <td>0</td>\n",
              "      <td>0</td>\n",
              "      <td>5</td>\n",
              "      <td>2</td>\n",
              "      <td>0</td>\n",
              "      <td>2586</td>\n",
              "      <td>0</td>\n",
              "    </tr>\n",
              "    <tr>\n",
              "      <th>4998</th>\n",
              "      <td>2</td>\n",
              "      <td>21</td>\n",
              "      <td>2</td>\n",
              "      <td>10</td>\n",
              "      <td>4</td>\n",
              "      <td>3</td>\n",
              "      <td>34</td>\n",
              "      <td>0</td>\n",
              "      <td>0</td>\n",
              "      <td>7</td>\n",
              "      <td>1</td>\n",
              "      <td>1</td>\n",
              "      <td>2376</td>\n",
              "      <td>1</td>\n",
              "    </tr>\n",
              "    <tr>\n",
              "      <th>4999</th>\n",
              "      <td>3</td>\n",
              "      <td>30</td>\n",
              "      <td>2</td>\n",
              "      <td>9</td>\n",
              "      <td>4</td>\n",
              "      <td>3</td>\n",
              "      <td>121</td>\n",
              "      <td>0</td>\n",
              "      <td>1</td>\n",
              "      <td>7</td>\n",
              "      <td>1</td>\n",
              "      <td>1</td>\n",
              "      <td>2408</td>\n",
              "      <td>1</td>\n",
              "    </tr>\n",
              "  </tbody>\n",
              "</table>\n",
              "<p>5000 rows × 14 columns</p>\n",
              "</div>"
            ],
            "text/plain": [
              "      search  rank  serp  hour  day  ...  source  type  nature  cpvs  #cpv45\n",
              "0          0     2     1    12    5  ...       1     2       1  2111       1\n",
              "1          0     8     1    17    5  ...      10     1       1  2249       1\n",
              "2          0     7     1    17    5  ...       9     2       1  2111       1\n",
              "3          0     3     1    17    5  ...       1     2       1  2110       2\n",
              "4          0     1     1     9    6  ...       0     1       1  2240       1\n",
              "...      ...   ...   ...   ...  ...  ...     ...   ...     ...   ...     ...\n",
              "4995       0    23     2    22    5  ...      11     2       2   377       2\n",
              "4996       3    27     2     7    0  ...       6     2       0  1117       1\n",
              "4997       2    18     1    10    4  ...       5     2       0  2586       0\n",
              "4998       2    21     2    10    4  ...       7     1       1  2376       1\n",
              "4999       3    30     2     9    4  ...       7     1       1  2408       1\n",
              "\n",
              "[5000 rows x 14 columns]"
            ]
          },
          "metadata": {
            "tags": []
          },
          "execution_count": 31
        }
      ]
    },
    {
      "cell_type": "markdown",
      "metadata": {
        "id": "b-epORk6rrj2"
      },
      "source": [
        "# Scaling the training data"
      ]
    },
    {
      "cell_type": "code",
      "metadata": {
        "id": "WMCZrbg3rwW_"
      },
      "source": [
        "Y = train['psrel'].values # defining the target variable\n",
        "X = train.drop(['psrel'], axis = 1).values"
      ],
      "execution_count": null,
      "outputs": []
    },
    {
      "cell_type": "code",
      "metadata": {
        "id": "KiArYTH6rwZv"
      },
      "source": [
        "# standardizing our data\n",
        "std_scaler = StandardScaler()\n",
        "X_scaled_standard = std_scaler.fit_transform(X)\n",
        "X_train, X_valid, y_train, y_valid = train_test_split(X_scaled_standard, Y, test_size= 0.2, stratify=Y,random_state = 0) "
      ],
      "execution_count": null,
      "outputs": []
    },
    {
      "cell_type": "code",
      "metadata": {
        "colab": {
          "base_uri": "https://localhost:8080/"
        },
        "id": "U_WsCHgirwhF",
        "outputId": "57c5f4a1-a394-4022-ae2a-8b1a18f15124"
      },
      "source": [
        "print(X_train.shape) # shape of the X_train"
      ],
      "execution_count": null,
      "outputs": [
        {
          "output_type": "stream",
          "text": [
            "(26400, 14)\n"
          ],
          "name": "stdout"
        }
      ]
    },
    {
      "cell_type": "code",
      "metadata": {
        "colab": {
          "base_uri": "https://localhost:8080/"
        },
        "id": "GhLAVbpvtoxh",
        "outputId": "92de7d3b-2703-49e6-e643-2413594634a6"
      },
      "source": [
        "#percentage of 0(psrel)\n",
        "psrel_0 = round(len(train.loc[train.psrel == 0])/len(train.loc[: , \"psrel\"\n",
        "])*100,2)\n",
        "print(\"The percentage of class 0 in the dataset {0}%\".format( psrel_0))\n",
        "#percentage of 1(psrel)\n",
        "psrel_1 = round(len(train.loc[train.psrel == 1])/len(train.loc[: , \"psrel\"\n",
        "])*100,2)\n",
        "print(\"The percentage of class 1 in the dataset {0}%\".format( psrel_1))"
      ],
      "execution_count": null,
      "outputs": [
        {
          "output_type": "stream",
          "text": [
            "The percentage of class 0 in the dataset 94.05%\n",
            "The percentage of class 1 in the dataset 5.95%\n"
          ],
          "name": "stdout"
        }
      ]
    },
    {
      "cell_type": "markdown",
      "metadata": {
        "id": "8r3r0prStnqc"
      },
      "source": [
        "# Data augmentation with smote"
      ]
    },
    {
      "cell_type": "code",
      "metadata": {
        "colab": {
          "base_uri": "https://localhost:8080/"
        },
        "id": "i0ZpoREKt6h2",
        "outputId": "fe9de397-0c11-4ee4-8401-25076cfe608e"
      },
      "source": [
        "oversample = SMOTE(sampling_strategy= 0.6,random_state=0)  #first oversample the minority class to have 70 percent the number of examples of the majority class , the idea of not putting it to 1 is keep that 0z are more than 1, we dont want to make them equal so not to have many synthetic values in.\n",
        "X_train_DA, y_train_DA = oversample.fit_resample(X_train, y_train)\n",
        "# summarize the new class distribution\n",
        "counter1 = Counter(y_train)\n",
        "counter2 = Counter(y_train_DA)\n",
        "print('Class Distribution:',counter1)\n",
        "print('New class Distribution:',counter2)"
      ],
      "execution_count": null,
      "outputs": [
        {
          "output_type": "stream",
          "text": [
            "Class Distribution: Counter({0: 24830, 1: 1570})\n",
            "New class Distribution: Counter({0: 24830, 1: 14898})\n"
          ],
          "name": "stdout"
        }
      ]
    },
    {
      "cell_type": "markdown",
      "metadata": {
        "id": "5EABPyp9LN-i"
      },
      "source": [
        "# Adjusting the class weights\n"
      ]
    },
    {
      "cell_type": "code",
      "metadata": {
        "id": "k4mmX-TQLTXq"
      },
      "source": [
        "count_0, count_1 = np.bincount(train.psrel)\n",
        "total_count = len(train.psrel)\n",
        "weight_0 = (count_0 / total_count)\n",
        "weight_1 = (count_1 / total_count)\n",
        "class_weights1 = {0: weight_1, 1: weight_0}"
      ],
      "execution_count": null,
      "outputs": []
    },
    {
      "cell_type": "code",
      "metadata": {
        "colab": {
          "base_uri": "https://localhost:8080/"
        },
        "id": "OAX7YJBwLTg5",
        "outputId": "4e21a93f-e3b9-447e-e1cc-ea95cfb8e24d"
      },
      "source": [
        "class_weights1"
      ],
      "execution_count": null,
      "outputs": [
        {
          "output_type": "execute_result",
          "data": {
            "text/plain": [
              "{0: 0.059454545454545454, 1: 0.9405454545454546}"
            ]
          },
          "metadata": {
            "tags": []
          },
          "execution_count": 38
        }
      ]
    },
    {
      "cell_type": "code",
      "metadata": {
        "id": "QV6rX11bX0C7"
      },
      "source": [
        "class_weights = {0: 0.10, 1: 0.90} # adjusting manually the weights to give the a better score"
      ],
      "execution_count": null,
      "outputs": []
    },
    {
      "cell_type": "markdown",
      "metadata": {
        "id": "wZf6t55PuIM4"
      },
      "source": [
        "# Standard Machine Learning Algorithm"
      ]
    },
    {
      "cell_type": "code",
      "metadata": {
        "colab": {
          "base_uri": "https://localhost:8080/"
        },
        "id": "mcou3i2yt6kn",
        "outputId": "91763433-f578-4f28-c4fe-de231dadc5c6"
      },
      "source": [
        "# defining the logistic model\n",
        "log_clf = LogisticRegression(class_weight=class_weights)\n",
        "log_clf_DA = LogisticRegression()\n",
        "\n",
        "# fitting the training set\n",
        "log_clf.fit(X_train, y_train)\n",
        "log_clf_DA.fit(X_train_DA, y_train_DA)\n",
        "\n",
        "# predicting on the validation set\n",
        "pred = log_clf.predict(X_valid)\n",
        "pred_DA = log_clf_DA.predict(X_valid)\n",
        "\n",
        "# Performance metrics\n",
        "print('The accuracy is :',accuracy_score(y_valid, pred))\n",
        "print('The f1 score is :',f1_score(y_valid, pred))\n",
        "print('The confusion matrix:',confusion_matrix(y_valid,pred))   \n",
        "print('*********************************************************')\n",
        "\n",
        "print('The accuracy with DA is :',accuracy_score(y_valid, pred_DA))\n",
        "print('The f1 score with DA is :',f1_score(y_valid, pred_DA))\n",
        "print('The confusion matrix with DA:',confusion_matrix(y_valid,pred_DA))\n",
        "print('*********************************************************')  \n"
      ],
      "execution_count": null,
      "outputs": [
        {
          "output_type": "stream",
          "text": [
            "The accuracy is : 0.8540909090909091\n",
            "The f1 score is : 0.2177091795288383\n",
            "The confusion matrix: [[5503  705]\n",
            " [ 258  134]]\n",
            "*********************************************************\n",
            "The accuracy with DA is : 0.8259090909090909\n",
            "The f1 score with DA is : 0.2146274777853725\n",
            "The confusion matrix with DA: [[5294  914]\n",
            " [ 235  157]]\n",
            "*********************************************************\n"
          ],
          "name": "stdout"
        },
        {
          "output_type": "stream",
          "text": [
            "/usr/local/lib/python3.7/dist-packages/sklearn/linear_model/logistic.py:432: FutureWarning: Default solver will be changed to 'lbfgs' in 0.22. Specify a solver to silence this warning.\n",
            "  FutureWarning)\n",
            "/usr/local/lib/python3.7/dist-packages/sklearn/linear_model/logistic.py:432: FutureWarning: Default solver will be changed to 'lbfgs' in 0.22. Specify a solver to silence this warning.\n",
            "  FutureWarning)\n"
          ],
          "name": "stderr"
        }
      ]
    },
    {
      "cell_type": "markdown",
      "metadata": {
        "id": "LHiHKYDfv3n8"
      },
      "source": [
        "# Learning Schedule"
      ]
    },
    {
      "cell_type": "code",
      "metadata": {
        "id": "bfbIE9mAvxZz"
      },
      "source": [
        "# Learning rate Scheduler\n",
        "def exponential_decay(lr0,s):\n",
        "  def exponential_decay_fn(epoch):\n",
        "    return lr0 * 0.1**(epoch/s)\n",
        "  return exponential_decay_fn\n",
        "\n",
        "exponential_decay_fn = exponential_decay(lr0=0.01, s=20)\n",
        "\n",
        "lr_scheduler = keras.callbacks.LearningRateScheduler(exponential_decay_fn)"
      ],
      "execution_count": null,
      "outputs": []
    },
    {
      "cell_type": "markdown",
      "metadata": {
        "id": "RFpxjxal0T2M"
      },
      "source": [
        "# Early stoping"
      ]
    },
    {
      "cell_type": "code",
      "metadata": {
        "id": "esp-yq8mwZIE"
      },
      "source": [
        "early_stopping_cb = keras.callbacks.EarlyStopping(monitor = 'val_loss',patience=10, restore_best_weights=True)"
      ],
      "execution_count": null,
      "outputs": []
    },
    {
      "cell_type": "markdown",
      "metadata": {
        "id": "ZA1AWdC4vyKP"
      },
      "source": [
        "# 3-LAYER Neural Network"
      ]
    },
    {
      "cell_type": "markdown",
      "metadata": {
        "id": "w0qlMfaczLz5"
      },
      "source": [
        "### Fitting the model to the data augmentation data"
      ]
    },
    {
      "cell_type": "code",
      "metadata": {
        "colab": {
          "base_uri": "https://localhost:8080/",
          "height": 1000
        },
        "id": "oD9QTBZKt6oq",
        "outputId": "4db771eb-0347-4945-e903-d4fb1911b2e0"
      },
      "source": [
        "input=keras.layers.Input(shape=(14,))\n",
        "hidden1 = keras.layers.Dense(125,activation = 'relu', kernel_initializer='he_normal')(input)\n",
        "output = keras.layers.Dense(1, activation=\"sigmoid\")(hidden1)\n",
        "model1 = keras.Model(inputs=[input],outputs=[output])\n",
        "\n",
        "model1.compile(optimizer=keras.optimizers.Adam(learning_rate=0.001), loss = 'binary_crossentropy', metrics = ['accuracy'])\n",
        "model1.summary()\n",
        "\n",
        "history = model1.fit(X_train_DA, y_train_DA, callbacks=[early_stopping_cb,lr_scheduler], validation_data=(X_valid, y_valid),  epochs=100, batch_size= 32, verbose=1)\n",
        "pd.DataFrame(history.history).plot(figsize=(8, 5)) \n",
        "plt.grid(True)"
      ],
      "execution_count": null,
      "outputs": [
        {
          "output_type": "stream",
          "text": [
            "Model: \"model_1\"\n",
            "_________________________________________________________________\n",
            "Layer (type)                 Output Shape              Param #   \n",
            "=================================================================\n",
            "input_2 (InputLayer)         [(None, 14)]              0         \n",
            "_________________________________________________________________\n",
            "dense_2 (Dense)              (None, 125)               1875      \n",
            "_________________________________________________________________\n",
            "dense_3 (Dense)              (None, 1)                 126       \n",
            "=================================================================\n",
            "Total params: 2,001\n",
            "Trainable params: 2,001\n",
            "Non-trainable params: 0\n",
            "_________________________________________________________________\n",
            "Epoch 1/100\n",
            "1242/1242 [==============================] - 3s 2ms/step - loss: 0.5256 - accuracy: 0.7385 - val_loss: 0.3138 - val_accuracy: 0.8741\n",
            "Epoch 2/100\n",
            "1242/1242 [==============================] - 3s 2ms/step - loss: 0.4257 - accuracy: 0.7995 - val_loss: 0.3491 - val_accuracy: 0.8541\n",
            "Epoch 3/100\n",
            "1242/1242 [==============================] - 3s 2ms/step - loss: 0.3807 - accuracy: 0.8285 - val_loss: 0.3493 - val_accuracy: 0.8445\n",
            "Epoch 4/100\n",
            "1242/1242 [==============================] - 3s 2ms/step - loss: 0.3493 - accuracy: 0.8428 - val_loss: 0.2793 - val_accuracy: 0.8871\n",
            "Epoch 5/100\n",
            "1242/1242 [==============================] - 3s 2ms/step - loss: 0.3267 - accuracy: 0.8573 - val_loss: 0.2870 - val_accuracy: 0.8852\n",
            "Epoch 6/100\n",
            "1242/1242 [==============================] - 3s 2ms/step - loss: 0.3052 - accuracy: 0.8667 - val_loss: 0.2607 - val_accuracy: 0.9053\n",
            "Epoch 7/100\n",
            "1242/1242 [==============================] - 3s 2ms/step - loss: 0.2934 - accuracy: 0.8738 - val_loss: 0.2662 - val_accuracy: 0.9024\n",
            "Epoch 8/100\n",
            "1242/1242 [==============================] - 3s 2ms/step - loss: 0.2772 - accuracy: 0.8813 - val_loss: 0.3028 - val_accuracy: 0.8800\n",
            "Epoch 9/100\n",
            "1242/1242 [==============================] - 3s 2ms/step - loss: 0.2706 - accuracy: 0.8867 - val_loss: 0.3124 - val_accuracy: 0.8739\n",
            "Epoch 10/100\n",
            "1242/1242 [==============================] - 3s 2ms/step - loss: 0.2562 - accuracy: 0.8926 - val_loss: 0.3012 - val_accuracy: 0.8818\n",
            "Epoch 11/100\n",
            "1242/1242 [==============================] - 3s 2ms/step - loss: 0.2476 - accuracy: 0.8989 - val_loss: 0.2932 - val_accuracy: 0.8877\n",
            "Epoch 12/100\n",
            "1242/1242 [==============================] - 3s 2ms/step - loss: 0.2402 - accuracy: 0.9022 - val_loss: 0.2619 - val_accuracy: 0.9006\n",
            "Epoch 13/100\n",
            "1242/1242 [==============================] - 3s 2ms/step - loss: 0.2321 - accuracy: 0.9035 - val_loss: 0.2953 - val_accuracy: 0.8873\n",
            "Epoch 14/100\n",
            "1242/1242 [==============================] - 3s 2ms/step - loss: 0.2310 - accuracy: 0.9047 - val_loss: 0.3131 - val_accuracy: 0.8789\n",
            "Epoch 15/100\n",
            "1242/1242 [==============================] - 3s 2ms/step - loss: 0.2174 - accuracy: 0.9105 - val_loss: 0.2627 - val_accuracy: 0.9012\n",
            "Epoch 16/100\n",
            "1242/1242 [==============================] - 3s 2ms/step - loss: 0.2141 - accuracy: 0.9140 - val_loss: 0.3028 - val_accuracy: 0.8829\n"
          ],
          "name": "stdout"
        },
        {
          "output_type": "display_data",
          "data": {
            "image/png": "[encoded data removed]",
            "text/plain": [
              "<Figure size 576x360 with 1 Axes>"
            ]
          },
          "metadata": {
            "tags": [],
            "needs_background": "light"
          }
        }
      ]
    },
    {
      "cell_type": "code",
      "metadata": {
        "id": "4RfWh_MH0E8i"
      },
      "source": [
        "#model1.save('model1.h5') # saving the model"
      ],
      "execution_count": null,
      "outputs": []
    },
    {
      "cell_type": "markdown",
      "metadata": {
        "id": "inp1Xkeuc4Du"
      },
      "source": [
        "### Fitting the best model to the data with class weights"
      ]
    },
    {
      "cell_type": "code",
      "metadata": {
        "colab": {
          "base_uri": "https://localhost:8080/",
          "height": 1000
        },
        "id": "Kdv1KsCHc4Dy",
        "outputId": "869836fa-55c1-480e-e6ad-208539508748"
      },
      "source": [
        "input=keras.layers.Input(shape=(14,))\n",
        "hidden1 = keras.layers.Dense(125,activation = 'relu', kernel_initializer='he_normal')(input)\n",
        "output = keras.layers.Dense(1, activation=\"sigmoid\")(hidden1)\n",
        "model2 = keras.Model(inputs=[input],outputs=[output])\n",
        "\n",
        "model2.compile(optimizer=keras.optimizers.Adam(learning_rate=0.001), loss = 'binary_crossentropy', metrics = ['accuracy'])\n",
        "model2.summary()\n",
        "\n",
        "history1 = model2.fit(X_train, y_train, callbacks=[early_stopping_cb,lr_scheduler], validation_data=(X_valid, y_valid),  epochs=100, batch_size= 32, verbose=1,class_weight=class_weights)\n",
        "pd.DataFrame(history1.history).plot(figsize=(8, 5)) \n",
        "plt.grid(True)"
      ],
      "execution_count": null,
      "outputs": [
        {
          "output_type": "stream",
          "text": [
            "Model: \"model_2\"\n",
            "_________________________________________________________________\n",
            "Layer (type)                 Output Shape              Param #   \n",
            "=================================================================\n",
            "input_3 (InputLayer)         [(None, 14)]              0         \n",
            "_________________________________________________________________\n",
            "dense_4 (Dense)              (None, 125)               1875      \n",
            "_________________________________________________________________\n",
            "dense_5 (Dense)              (None, 1)                 126       \n",
            "=================================================================\n",
            "Total params: 2,001\n",
            "Trainable params: 2,001\n",
            "Non-trainable params: 0\n",
            "_________________________________________________________________\n",
            "Epoch 1/100\n",
            "825/825 [==============================] - 2s 2ms/step - loss: 0.0923 - accuracy: 0.7890 - val_loss: 0.4637 - val_accuracy: 0.7915\n",
            "Epoch 2/100\n",
            "825/825 [==============================] - 2s 2ms/step - loss: 0.0804 - accuracy: 0.8294 - val_loss: 0.4060 - val_accuracy: 0.8311\n",
            "Epoch 3/100\n",
            "825/825 [==============================] - 2s 2ms/step - loss: 0.0758 - accuracy: 0.8459 - val_loss: 0.4481 - val_accuracy: 0.7932\n",
            "Epoch 4/100\n",
            "825/825 [==============================] - 2s 2ms/step - loss: 0.0760 - accuracy: 0.8382 - val_loss: 0.3489 - val_accuracy: 0.8636\n",
            "Epoch 5/100\n",
            "825/825 [==============================] - 2s 2ms/step - loss: 0.0728 - accuracy: 0.8560 - val_loss: 0.3866 - val_accuracy: 0.8385\n",
            "Epoch 6/100\n",
            "825/825 [==============================] - 2s 2ms/step - loss: 0.0711 - accuracy: 0.8554 - val_loss: 0.3349 - val_accuracy: 0.8632\n",
            "Epoch 7/100\n",
            "825/825 [==============================] - 2s 2ms/step - loss: 0.0672 - accuracy: 0.8563 - val_loss: 0.3453 - val_accuracy: 0.8558\n",
            "Epoch 8/100\n",
            "825/825 [==============================] - 2s 2ms/step - loss: 0.0657 - accuracy: 0.8629 - val_loss: 0.2753 - val_accuracy: 0.9112\n",
            "Epoch 9/100\n",
            "825/825 [==============================] - 2s 2ms/step - loss: 0.0662 - accuracy: 0.8701 - val_loss: 0.3624 - val_accuracy: 0.8420\n",
            "Epoch 10/100\n",
            "825/825 [==============================] - 2s 2ms/step - loss: 0.0650 - accuracy: 0.8612 - val_loss: 0.3400 - val_accuracy: 0.8585\n",
            "Epoch 11/100\n",
            "825/825 [==============================] - 2s 2ms/step - loss: 0.0610 - accuracy: 0.8743 - val_loss: 0.3901 - val_accuracy: 0.8268\n",
            "Epoch 12/100\n",
            "825/825 [==============================] - 2s 2ms/step - loss: 0.0610 - accuracy: 0.8692 - val_loss: 0.3464 - val_accuracy: 0.8517\n",
            "Epoch 13/100\n",
            "825/825 [==============================] - 2s 2ms/step - loss: 0.0583 - accuracy: 0.8805 - val_loss: 0.3568 - val_accuracy: 0.8486\n",
            "Epoch 14/100\n",
            "825/825 [==============================] - 2s 2ms/step - loss: 0.0587 - accuracy: 0.8737 - val_loss: 0.3901 - val_accuracy: 0.8247\n",
            "Epoch 15/100\n",
            "825/825 [==============================] - 2s 2ms/step - loss: 0.0570 - accuracy: 0.8750 - val_loss: 0.3217 - val_accuracy: 0.8615\n",
            "Epoch 16/100\n",
            "825/825 [==============================] - 2s 2ms/step - loss: 0.0566 - accuracy: 0.8746 - val_loss: 0.3376 - val_accuracy: 0.8614\n",
            "Epoch 17/100\n",
            "825/825 [==============================] - 2s 2ms/step - loss: 0.0540 - accuracy: 0.8828 - val_loss: 0.3397 - val_accuracy: 0.8515\n",
            "Epoch 18/100\n",
            "825/825 [==============================] - 2s 2ms/step - loss: 0.0545 - accuracy: 0.8781 - val_loss: 0.3349 - val_accuracy: 0.8550\n"
          ],
          "name": "stdout"
        },
        {
          "output_type": "display_data",
          "data": {
            "image/png": "[encoded data removed]",
            "text/plain": [
              "<Figure size 576x360 with 1 Axes>"
            ]
          },
          "metadata": {
            "tags": [],
            "needs_background": "light"
          }
        }
      ]
    },
    {
      "cell_type": "code",
      "metadata": {
        "id": "pZQvrwJDc4D0"
      },
      "source": [
        "#model2.save('model2.h5') # saving the model"
      ],
      "execution_count": null,
      "outputs": []
    },
    {
      "cell_type": "markdown",
      "metadata": {
        "id": "z9SD9aM_MGfD"
      },
      "source": [
        "# Dense deep neural network"
      ]
    },
    {
      "cell_type": "markdown",
      "metadata": {
        "id": "8vUWzxIzbQqw"
      },
      "source": [
        "### Grid Search"
      ]
    },
    {
      "cell_type": "code",
      "metadata": {
        "id": "g2t3OPCoMLYt"
      },
      "source": [
        "def dense_deep(nl,nn):\n",
        "  optimizer = keras.optimizers.Adam(lr = 0.001)\n",
        "  \n",
        "  model = keras.models.Sequential()\n",
        "  model.add(keras.layers.Input(shape=(14,)))\n",
        "  # Add as many hidden layers as specified in nl\n",
        "  for i in range(nl):\n",
        "# Layers have nn neurons\n",
        "    model.add(Dense(nn, activation='relu'))\n",
        "\n",
        "  model.add(Dense(1, activation = 'sigmoid'))\n",
        "  \n",
        "  model.compile(optimizer=optimizer, loss = 'binary_crossentropy', metrics = ['accuracy'])\n",
        "  return model"
      ],
      "execution_count": null,
      "outputs": []
    },
    {
      "cell_type": "code",
      "metadata": {
        "colab": {
          "base_uri": "https://localhost:8080/"
        },
        "id": "0uS3dkQzMLby",
        "outputId": "638188be-10c1-4f36-c68b-eab9e3a8dbc6"
      },
      "source": [
        "#30 minutes to run\n",
        "\n",
        "# Define parameters\n",
        "params = {'nn': [30,35,40,45,50,75,100,125,150,175,200,250,300,350,400],'nl':[3,4,5]}  \n",
        "# Create a KerasClassifier\n",
        "model = KerasClassifier(build_fn = dense_deep)\n",
        "\n",
        "grid_search = GridSearchCV(model, param_grid = params, cv=10,scoring = 'accuracy')\n",
        "\n",
        "\n",
        "result = grid_search.fit(X_train_DA,y_train_DA, validation_data=(X_valid, y_valid), callbacks=[early_stopping_cb,lr_scheduler],verbose=0)"
      ],
      "execution_count": null,
      "outputs": [
        {
          "output_type": "stream",
          "text": [
            "/usr/local/lib/python3.7/dist-packages/tensorflow/python/keras/engine/sequential.py:450: UserWarning: `model.predict_classes()` is deprecated and will be removed after 2021-01-01. Please use instead:* `np.argmax(model.predict(x), axis=-1)`,   if your model does multi-class classification   (e.g. if it uses a `softmax` last-layer activation).* `(model.predict(x) > 0.5).astype(\"int32\")`,   if your model does binary classification   (e.g. if it uses a `sigmoid` last-layer activation).\n",
            "  warnings.warn('`model.predict_classes()` is deprecated and '\n"
          ],
          "name": "stderr"
        }
      ]
    },
    {
      "cell_type": "code",
      "metadata": {
        "id": "qe4WUr14V1jo",
        "colab": {
          "base_uri": "https://localhost:8080/"
        },
        "outputId": "c5136cd9-8ac3-4775-b678-d79c3334ddd6"
      },
      "source": [
        "print(\"Best:\",result.best_score_,grid_search.best_params_)"
      ],
      "execution_count": null,
      "outputs": [
        {
          "output_type": "stream",
          "text": [
            "Best: 0.775196335078534 {'nl': 4, 'nn': 125}\n"
          ],
          "name": "stdout"
        }
      ]
    },
    {
      "cell_type": "markdown",
      "metadata": {
        "id": "kr_LgI_91UqW"
      },
      "source": [
        "### Fitting the model to the data augmentation data"
      ]
    },
    {
      "cell_type": "code",
      "metadata": {
        "colab": {
          "base_uri": "https://localhost:8080/",
          "height": 1000
        },
        "id": "UXXsBQBUUzFL",
        "outputId": "c5ca716d-e35e-4f5b-8e8a-b87cd5bd89d8"
      },
      "source": [
        "input=keras.layers.Input(shape=(14,))\n",
        "hidden1 = keras.layers.Dense(125,activation = 'relu',kernel_initializer='he_normal')(input)\n",
        "hidden1drop = keras.layers.Dropout(rate=0.2)(hidden1)\n",
        "hidden2 = keras.layers.Dense(125,activation = 'relu',kernel_initializer='he_normal')(hidden1drop)\n",
        "hidden2drop = keras.layers.Dropout(rate=0.2)(hidden2)\n",
        "hidden3 = keras.layers.Dense(125,activation = 'relu',kernel_initializer='he_normal')(hidden2drop)\n",
        "hidden3drop = keras.layers.Dropout(rate=0.2)(hidden3)\n",
        "hidden4 = keras.layers.Dense(125,activation = 'relu',kernel_initializer='he_normal')(hidden3drop)\n",
        "hidden4drop = keras.layers.Dropout(rate=0.2)(hidden4)\n",
        "output = keras.layers.Dense(1, activation=\"sigmoid\")(hidden4drop)\n",
        "dense_deep = keras.Model(inputs=[input],outputs=[output])\n",
        "\n",
        "dense_deep.compile(optimizer=keras.optimizers.Adam(learning_rate=0.001), loss = 'binary_crossentropy', metrics = ['accuracy'])\n",
        "dense_deep.summary()\n",
        "\n",
        "hist_dense = dense_deep.fit(X_train_DA, y_train_DA, callbacks=[early_stopping_cb,lr_scheduler], validation_data=(X_valid, y_valid),  epochs=30, batch_size= 32, verbose=1)\n",
        "pd.DataFrame(hist_dense.history).plot(figsize=(8, 5)) \n",
        "plt.grid(True)"
      ],
      "execution_count": null,
      "outputs": [
        {
          "output_type": "stream",
          "text": [
            "Model: \"model_3\"\n",
            "_________________________________________________________________\n",
            "Layer (type)                 Output Shape              Param #   \n",
            "=================================================================\n",
            "input_4 (InputLayer)         [(None, 14)]              0         \n",
            "_________________________________________________________________\n",
            "dense_6 (Dense)              (None, 125)               1875      \n",
            "_________________________________________________________________\n",
            "dropout (Dropout)            (None, 125)               0         \n",
            "_________________________________________________________________\n",
            "dense_7 (Dense)              (None, 125)               15750     \n",
            "_________________________________________________________________\n",
            "dropout_1 (Dropout)          (None, 125)               0         \n",
            "_________________________________________________________________\n",
            "dense_8 (Dense)              (None, 125)               15750     \n",
            "_________________________________________________________________\n",
            "dropout_2 (Dropout)          (None, 125)               0         \n",
            "_________________________________________________________________\n",
            "dense_9 (Dense)              (None, 125)               15750     \n",
            "_________________________________________________________________\n",
            "dropout_3 (Dropout)          (None, 125)               0         \n",
            "_________________________________________________________________\n",
            "dense_10 (Dense)             (None, 1)                 126       \n",
            "=================================================================\n",
            "Total params: 49,251\n",
            "Trainable params: 49,251\n",
            "Non-trainable params: 0\n",
            "_________________________________________________________________\n",
            "Epoch 1/30\n",
            "1242/1242 [==============================] - 4s 3ms/step - loss: 0.5831 - accuracy: 0.7112 - val_loss: 0.3192 - val_accuracy: 0.8941\n",
            "Epoch 2/30\n",
            "1242/1242 [==============================] - 3s 3ms/step - loss: 0.4909 - accuracy: 0.7641 - val_loss: 0.4135 - val_accuracy: 0.8433\n",
            "Epoch 3/30\n",
            "1242/1242 [==============================] - 3s 3ms/step - loss: 0.4492 - accuracy: 0.7870 - val_loss: 0.3269 - val_accuracy: 0.8597\n",
            "Epoch 4/30\n",
            "1242/1242 [==============================] - 3s 3ms/step - loss: 0.4215 - accuracy: 0.8018 - val_loss: 0.2985 - val_accuracy: 0.8921\n",
            "Epoch 5/30\n",
            "1242/1242 [==============================] - 3s 3ms/step - loss: 0.4024 - accuracy: 0.8148 - val_loss: 0.3080 - val_accuracy: 0.8692\n",
            "Epoch 6/30\n",
            "1242/1242 [==============================] - 3s 3ms/step - loss: 0.3872 - accuracy: 0.8259 - val_loss: 0.2951 - val_accuracy: 0.8812\n",
            "Epoch 7/30\n",
            "1242/1242 [==============================] - 3s 3ms/step - loss: 0.3652 - accuracy: 0.8298 - val_loss: 0.3019 - val_accuracy: 0.8655\n",
            "Epoch 8/30\n",
            "1242/1242 [==============================] - 3s 3ms/step - loss: 0.3493 - accuracy: 0.8429 - val_loss: 0.3087 - val_accuracy: 0.8586\n",
            "Epoch 9/30\n",
            "1242/1242 [==============================] - 3s 3ms/step - loss: 0.3379 - accuracy: 0.8476 - val_loss: 0.2999 - val_accuracy: 0.8624\n",
            "Epoch 10/30\n",
            "1242/1242 [==============================] - 3s 3ms/step - loss: 0.3260 - accuracy: 0.8514 - val_loss: 0.3055 - val_accuracy: 0.8645\n",
            "Epoch 11/30\n",
            "1242/1242 [==============================] - 3s 3ms/step - loss: 0.3155 - accuracy: 0.8636 - val_loss: 0.2890 - val_accuracy: 0.8723\n",
            "Epoch 12/30\n",
            "1242/1242 [==============================] - 3s 3ms/step - loss: 0.3096 - accuracy: 0.8623 - val_loss: 0.3223 - val_accuracy: 0.8614\n",
            "Epoch 13/30\n",
            "1242/1242 [==============================] - 3s 3ms/step - loss: 0.2952 - accuracy: 0.8701 - val_loss: 0.2898 - val_accuracy: 0.8732\n",
            "Epoch 14/30\n",
            "1242/1242 [==============================] - 3s 3ms/step - loss: 0.2941 - accuracy: 0.8680 - val_loss: 0.3023 - val_accuracy: 0.8656\n",
            "Epoch 15/30\n",
            "1242/1242 [==============================] - 3s 3ms/step - loss: 0.2805 - accuracy: 0.8763 - val_loss: 0.2839 - val_accuracy: 0.8677\n",
            "Epoch 16/30\n",
            "1242/1242 [==============================] - 3s 3ms/step - loss: 0.2755 - accuracy: 0.8780 - val_loss: 0.3194 - val_accuracy: 0.8580\n",
            "Epoch 17/30\n",
            "1242/1242 [==============================] - 3s 3ms/step - loss: 0.2659 - accuracy: 0.8805 - val_loss: 0.2938 - val_accuracy: 0.8689\n",
            "Epoch 18/30\n",
            "1242/1242 [==============================] - 3s 3ms/step - loss: 0.2704 - accuracy: 0.8797 - val_loss: 0.3051 - val_accuracy: 0.8750\n",
            "Epoch 19/30\n",
            "1242/1242 [==============================] - 3s 3ms/step - loss: 0.2578 - accuracy: 0.8877 - val_loss: 0.3044 - val_accuracy: 0.8708\n",
            "Epoch 20/30\n",
            "1242/1242 [==============================] - 3s 3ms/step - loss: 0.2577 - accuracy: 0.8876 - val_loss: 0.2968 - val_accuracy: 0.8692\n",
            "Epoch 21/30\n",
            "1242/1242 [==============================] - 3s 3ms/step - loss: 0.2625 - accuracy: 0.8851 - val_loss: 0.2897 - val_accuracy: 0.8806\n",
            "Epoch 22/30\n",
            "1242/1242 [==============================] - 3s 3ms/step - loss: 0.2468 - accuracy: 0.8935 - val_loss: 0.2975 - val_accuracy: 0.8720\n",
            "Epoch 23/30\n",
            "1242/1242 [==============================] - 3s 3ms/step - loss: 0.2452 - accuracy: 0.8952 - val_loss: 0.3127 - val_accuracy: 0.8721\n",
            "Epoch 24/30\n",
            "1242/1242 [==============================] - 3s 3ms/step - loss: 0.2475 - accuracy: 0.8933 - val_loss: 0.2918 - val_accuracy: 0.8786\n",
            "Epoch 25/30\n",
            "1242/1242 [==============================] - 3s 3ms/step - loss: 0.2370 - accuracy: 0.8979 - val_loss: 0.2944 - val_accuracy: 0.8788\n"
          ],
          "name": "stdout"
        },
        {
          "output_type": "display_data",
          "data": {
            "image/png": "[encoded data removed]",
            "text/plain": [
              "<Figure size 576x360 with 1 Axes>"
            ]
          },
          "metadata": {
            "tags": [],
            "needs_background": "light"
          }
        }
      ]
    },
    {
      "cell_type": "code",
      "metadata": {
        "id": "ffa2FsdB2e8w"
      },
      "source": [
        "#dense_deep.save('dense_deep.h5') # saving the model"
      ],
      "execution_count": null,
      "outputs": []
    },
    {
      "cell_type": "markdown",
      "metadata": {
        "id": "2MymLm9O1aEg"
      },
      "source": [
        "### Fitting the model to the data with class weights"
      ]
    },
    {
      "cell_type": "code",
      "metadata": {
        "colab": {
          "base_uri": "https://localhost:8080/",
          "height": 1000
        },
        "id": "w1WcCNz9MLe8",
        "outputId": "ce442b61-e475-4950-af90-48d562ad2c47"
      },
      "source": [
        "input=keras.layers.Input(shape=(14,))\n",
        "hidden1 = keras.layers.Dense(125,activation = 'relu',kernel_initializer='he_normal')(input)\n",
        "hidden1drop = keras.layers.Dropout(rate=0.2)(hidden1)\n",
        "hidden2 = keras.layers.Dense(125,activation = 'relu',kernel_initializer='he_normal')(hidden1drop)\n",
        "hidden2drop = keras.layers.Dropout(rate=0.2)(hidden2)\n",
        "hidden3 = keras.layers.Dense(125,activation = 'relu',kernel_initializer='he_normal')(hidden2drop)\n",
        "hidden3drop = keras.layers.Dropout(rate=0.2)(hidden3)\n",
        "hidden4 = keras.layers.Dense(125,activation = 'relu',kernel_initializer='he_normal')(hidden3drop)\n",
        "hidden4drop = keras.layers.Dropout(rate=0.2)(hidden4)\n",
        "output = keras.layers.Dense(1, activation=\"sigmoid\")(hidden4drop)\n",
        "dense_deep1 = keras.Model(inputs=[input],outputs=[output])\n",
        "\n",
        "dense_deep1.compile(optimizer=keras.optimizers.Adam(learning_rate=0.001), loss = 'binary_crossentropy', metrics = ['accuracy'])\n",
        "dense_deep1.summary()\n",
        "\n",
        "hist_dense1 = dense_deep1.fit(X_train, y_train, callbacks=[early_stopping_cb,lr_scheduler], validation_data=(X_valid, y_valid),  epochs=30, batch_size= 32, verbose=1,class_weight=class_weights)\n",
        "pd.DataFrame(hist_dense1.history).plot(figsize=(8, 5)) \n",
        "plt.grid(True)"
      ],
      "execution_count": null,
      "outputs": [
        {
          "output_type": "stream",
          "text": [
            "Model: \"model_4\"\n",
            "_________________________________________________________________\n",
            "Layer (type)                 Output Shape              Param #   \n",
            "=================================================================\n",
            "input_5 (InputLayer)         [(None, 14)]              0         \n",
            "_________________________________________________________________\n",
            "dense_11 (Dense)             (None, 125)               1875      \n",
            "_________________________________________________________________\n",
            "dropout_4 (Dropout)          (None, 125)               0         \n",
            "_________________________________________________________________\n",
            "dense_12 (Dense)             (None, 125)               15750     \n",
            "_________________________________________________________________\n",
            "dropout_5 (Dropout)          (None, 125)               0         \n",
            "_________________________________________________________________\n",
            "dense_13 (Dense)             (None, 125)               15750     \n",
            "_________________________________________________________________\n",
            "dropout_6 (Dropout)          (None, 125)               0         \n",
            "_________________________________________________________________\n",
            "dense_14 (Dense)             (None, 125)               15750     \n",
            "_________________________________________________________________\n",
            "dropout_7 (Dropout)          (None, 125)               0         \n",
            "_________________________________________________________________\n",
            "dense_15 (Dense)             (None, 1)                 126       \n",
            "=================================================================\n",
            "Total params: 49,251\n",
            "Trainable params: 49,251\n",
            "Non-trainable params: 0\n",
            "_________________________________________________________________\n",
            "Epoch 1/30\n",
            "825/825 [==============================] - 2s 2ms/step - loss: 0.1055 - accuracy: 0.8083 - val_loss: 0.4228 - val_accuracy: 0.9383\n",
            "Epoch 2/30\n",
            "825/825 [==============================] - 2s 2ms/step - loss: 0.0899 - accuracy: 0.9137 - val_loss: 0.3796 - val_accuracy: 0.9371\n",
            "Epoch 3/30\n",
            "825/825 [==============================] - 2s 2ms/step - loss: 0.0864 - accuracy: 0.9164 - val_loss: 0.4522 - val_accuracy: 0.9147\n",
            "Epoch 4/30\n",
            "825/825 [==============================] - 2s 2ms/step - loss: 0.0821 - accuracy: 0.9241 - val_loss: 0.4073 - val_accuracy: 0.9280\n",
            "Epoch 5/30\n",
            "825/825 [==============================] - 2s 2ms/step - loss: 0.0832 - accuracy: 0.9220 - val_loss: 0.3631 - val_accuracy: 0.9341\n",
            "Epoch 6/30\n",
            "825/825 [==============================] - 2s 2ms/step - loss: 0.0812 - accuracy: 0.9203 - val_loss: 0.3563 - val_accuracy: 0.9468\n",
            "Epoch 7/30\n",
            "825/825 [==============================] - 2s 2ms/step - loss: 0.0803 - accuracy: 0.9228 - val_loss: 0.3351 - val_accuracy: 0.9279\n",
            "Epoch 8/30\n",
            "825/825 [==============================] - 2s 2ms/step - loss: 0.0806 - accuracy: 0.9167 - val_loss: 0.3554 - val_accuracy: 0.9364\n",
            "Epoch 9/30\n",
            "825/825 [==============================] - 2s 2ms/step - loss: 0.0784 - accuracy: 0.9175 - val_loss: 0.3669 - val_accuracy: 0.9226\n",
            "Epoch 10/30\n",
            "825/825 [==============================] - 2s 2ms/step - loss: 0.0772 - accuracy: 0.9174 - val_loss: 0.3584 - val_accuracy: 0.9347\n",
            "Epoch 11/30\n",
            "825/825 [==============================] - 2s 2ms/step - loss: 0.0773 - accuracy: 0.9123 - val_loss: 0.3149 - val_accuracy: 0.9076\n",
            "Epoch 12/30\n",
            "825/825 [==============================] - 2s 2ms/step - loss: 0.0774 - accuracy: 0.9077 - val_loss: 0.3171 - val_accuracy: 0.9453\n",
            "Epoch 13/30\n",
            "825/825 [==============================] - 2s 2ms/step - loss: 0.0745 - accuracy: 0.9171 - val_loss: 0.3582 - val_accuracy: 0.9105\n",
            "Epoch 14/30\n",
            "825/825 [==============================] - 2s 2ms/step - loss: 0.0744 - accuracy: 0.9079 - val_loss: 0.3557 - val_accuracy: 0.9174\n",
            "Epoch 15/30\n",
            "825/825 [==============================] - 2s 2ms/step - loss: 0.0751 - accuracy: 0.9025 - val_loss: 0.3488 - val_accuracy: 0.9182\n",
            "Epoch 16/30\n",
            "825/825 [==============================] - 2s 2ms/step - loss: 0.0767 - accuracy: 0.9025 - val_loss: 0.3433 - val_accuracy: 0.9252\n",
            "Epoch 17/30\n",
            "825/825 [==============================] - 2s 2ms/step - loss: 0.0725 - accuracy: 0.9067 - val_loss: 0.3480 - val_accuracy: 0.9238\n",
            "Epoch 18/30\n",
            "825/825 [==============================] - 2s 2ms/step - loss: 0.0736 - accuracy: 0.9015 - val_loss: 0.3366 - val_accuracy: 0.9330\n",
            "Epoch 19/30\n",
            "825/825 [==============================] - 2s 2ms/step - loss: 0.0684 - accuracy: 0.9074 - val_loss: 0.3494 - val_accuracy: 0.9185\n",
            "Epoch 20/30\n",
            "825/825 [==============================] - 2s 2ms/step - loss: 0.0708 - accuracy: 0.9020 - val_loss: 0.3287 - val_accuracy: 0.9318\n",
            "Epoch 21/30\n",
            "825/825 [==============================] - 2s 2ms/step - loss: 0.0680 - accuracy: 0.9027 - val_loss: 0.3047 - val_accuracy: 0.9364\n",
            "Epoch 22/30\n",
            "825/825 [==============================] - 2s 2ms/step - loss: 0.0682 - accuracy: 0.9037 - val_loss: 0.3227 - val_accuracy: 0.9315\n",
            "Epoch 23/30\n",
            "825/825 [==============================] - 2s 2ms/step - loss: 0.0686 - accuracy: 0.9014 - val_loss: 0.3260 - val_accuracy: 0.9173\n",
            "Epoch 24/30\n",
            "825/825 [==============================] - 2s 2ms/step - loss: 0.0666 - accuracy: 0.9018 - val_loss: 0.3073 - val_accuracy: 0.9335\n",
            "Epoch 25/30\n",
            "825/825 [==============================] - 2s 2ms/step - loss: 0.0640 - accuracy: 0.9135 - val_loss: 0.3408 - val_accuracy: 0.9050\n",
            "Epoch 26/30\n",
            "825/825 [==============================] - 2s 2ms/step - loss: 0.0652 - accuracy: 0.8914 - val_loss: 0.3261 - val_accuracy: 0.9245\n",
            "Epoch 27/30\n",
            "825/825 [==============================] - 2s 2ms/step - loss: 0.0667 - accuracy: 0.8983 - val_loss: 0.3031 - val_accuracy: 0.9277\n",
            "Epoch 28/30\n",
            "825/825 [==============================] - 2s 2ms/step - loss: 0.0623 - accuracy: 0.9037 - val_loss: 0.3253 - val_accuracy: 0.9094\n",
            "Epoch 29/30\n",
            "825/825 [==============================] - 2s 2ms/step - loss: 0.0634 - accuracy: 0.8975 - val_loss: 0.3325 - val_accuracy: 0.9091\n",
            "Epoch 30/30\n",
            "825/825 [==============================] - 2s 2ms/step - loss: 0.0629 - accuracy: 0.8949 - val_loss: 0.3234 - val_accuracy: 0.9158\n"
          ],
          "name": "stdout"
        },
        {
          "output_type": "display_data",
          "data": {
            "image/png": "[encoded data removed]",
            "text/plain": [
              "<Figure size 576x360 with 1 Axes>"
            ]
          },
          "metadata": {
            "tags": [],
            "needs_background": "light"
          }
        }
      ]
    },
    {
      "cell_type": "code",
      "metadata": {
        "id": "-UlBr7Hw2VKR"
      },
      "source": [
        "#dense_deep1.save('dense_deep1.h5') # saving the model"
      ],
      "execution_count": null,
      "outputs": []
    },
    {
      "cell_type": "markdown",
      "metadata": {
        "id": "CfgyEvHwMS-t"
      },
      "source": [
        "# Wide and Deep Neural network"
      ]
    },
    {
      "cell_type": "markdown",
      "metadata": {
        "id": "uxQxKXFy1fIc"
      },
      "source": [
        "### Fitting the model to the data augmentation data"
      ]
    },
    {
      "cell_type": "code",
      "metadata": {
        "id": "0sKRXundMLpZ",
        "colab": {
          "base_uri": "https://localhost:8080/",
          "height": 800
        },
        "outputId": "b3b6cdd5-2290-4f7b-b1fa-5e05e8f56bae"
      },
      "source": [
        "input_ = keras.layers.Input(shape=(14,))\n",
        "hidden1 = keras.layers.Dense(50, activation=\"relu\",kernel_initializer='he_normal')(input_)\n",
        "hidden2 = keras.layers.Dense(50, activation=\"relu\",kernel_initializer='he_normal')(hidden1)\n",
        "hidden3 = keras.layers.Dense(50, activation=\"relu\",kernel_initializer='he_normal')(hidden2)\n",
        "concat = keras.layers.Concatenate()([input_,hidden3])\n",
        "output = keras.layers.Dense(1,activation=\"sigmoid\")(concat)\n",
        "wide_deep = keras.Model(inputs=[input_], outputs=[output])\n",
        "\n",
        "wide_deep.compile(optimizer=keras.optimizers.Adam(learning_rate=0.001), loss = 'binary_crossentropy', metrics = ['accuracy'])\n",
        "wide_deep.summary()\n",
        "\n",
        "hist_wide_deep = wide_deep.fit(X_train_DA, y_train_DA, callbacks=[early_stopping_cb,lr_scheduler], validation_data=(X_valid, y_valid),  epochs=3, batch_size= 32, verbose=1)\n",
        "pd.DataFrame(hist_wide_deep.history).plot(figsize=(8, 5)) \n",
        "plt.grid(True)"
      ],
      "execution_count": null,
      "outputs": [
        {
          "output_type": "stream",
          "text": [
            "Model: \"model_6\"\n",
            "__________________________________________________________________________________________________\n",
            "Layer (type)                    Output Shape         Param #     Connected to                     \n",
            "==================================================================================================\n",
            "input_7 (InputLayer)            [(None, 14)]         0                                            \n",
            "__________________________________________________________________________________________________\n",
            "dense_20 (Dense)                (None, 50)           750         input_7[0][0]                    \n",
            "__________________________________________________________________________________________________\n",
            "dense_21 (Dense)                (None, 50)           2550        dense_20[0][0]                   \n",
            "__________________________________________________________________________________________________\n",
            "dense_22 (Dense)                (None, 50)           2550        dense_21[0][0]                   \n",
            "__________________________________________________________________________________________________\n",
            "concatenate_1 (Concatenate)     (None, 64)           0           input_7[0][0]                    \n",
            "                                                                 dense_22[0][0]                   \n",
            "__________________________________________________________________________________________________\n",
            "dense_23 (Dense)                (None, 1)            65          concatenate_1[0][0]              \n",
            "==================================================================================================\n",
            "Total params: 5,915\n",
            "Trainable params: 5,915\n",
            "Non-trainable params: 0\n",
            "__________________________________________________________________________________________________\n",
            "Epoch 1/3\n",
            "1242/1242 [==============================] - 3s 2ms/step - loss: 0.5170 - accuracy: 0.7425 - val_loss: 0.3463 - val_accuracy: 0.8491\n",
            "Epoch 2/3\n",
            "1242/1242 [==============================] - 3s 2ms/step - loss: 0.3882 - accuracy: 0.8201 - val_loss: 0.3444 - val_accuracy: 0.8450\n",
            "Epoch 3/3\n",
            "1242/1242 [==============================] - 3s 2ms/step - loss: 0.3374 - accuracy: 0.8455 - val_loss: 0.3201 - val_accuracy: 0.8579\n"
          ],
          "name": "stdout"
        },
        {
          "output_type": "display_data",
          "data": {
            "image/png": "[encoded data removed]",
            "text/plain": [
              "<Figure size 576x360 with 1 Axes>"
            ]
          },
          "metadata": {
            "tags": [],
            "needs_background": "light"
          }
        }
      ]
    },
    {
      "cell_type": "code",
      "metadata": {
        "id": "K3EB1qYf2MuV"
      },
      "source": [
        "wide_deep.save('wide_deep.h5')"
      ],
      "execution_count": null,
      "outputs": []
    },
    {
      "cell_type": "markdown",
      "metadata": {
        "id": "-MvJMIDp1hxA"
      },
      "source": [
        "### Fitting the model to the data with class weights"
      ]
    },
    {
      "cell_type": "code",
      "metadata": {
        "id": "X6z1eyWLtPKX",
        "colab": {
          "base_uri": "https://localhost:8080/",
          "height": 800
        },
        "outputId": "e3a32c5b-791d-4244-bf87-b541d4485122"
      },
      "source": [
        "input_ = keras.layers.Input(shape=(14,))\n",
        "hidden1 = keras.layers.Dense(50, activation=\"relu\",kernel_initializer='he_normal')(input_)\n",
        "hidden2 = keras.layers.Dense(50, activation=\"relu\",kernel_initializer='he_normal')(hidden1)\n",
        "hidden3 = keras.layers.Dense(50, activation=\"relu\",kernel_initializer='he_normal')(hidden2)\n",
        "concat = keras.layers.Concatenate()([input_,hidden3])\n",
        "output = keras.layers.Dense(1,activation=\"sigmoid\")(concat)\n",
        "wide_deep1 = keras.Model(inputs=[input_], outputs=[output])\n",
        "\n",
        "wide_deep1.compile(optimizer=keras.optimizers.Adam(learning_rate=0.001), loss = 'binary_crossentropy', metrics = ['accuracy'])\n",
        "wide_deep1.summary()\n",
        "\n",
        "hist_wide_deep1 = wide_deep1.fit(X_train, y_train, callbacks=[early_stopping_cb,lr_scheduler], validation_data=(X_valid, y_valid),  epochs=3, batch_size= 32, verbose=1,class_weight=class_weights)\n",
        "pd.DataFrame(hist_wide_deep1.history).plot(figsize=(8, 5)) \n",
        "plt.grid(True)"
      ],
      "execution_count": null,
      "outputs": [
        {
          "output_type": "stream",
          "text": [
            "Model: \"model_7\"\n",
            "__________________________________________________________________________________________________\n",
            "Layer (type)                    Output Shape         Param #     Connected to                     \n",
            "==================================================================================================\n",
            "input_8 (InputLayer)            [(None, 14)]         0                                            \n",
            "__________________________________________________________________________________________________\n",
            "dense_24 (Dense)                (None, 50)           750         input_8[0][0]                    \n",
            "__________________________________________________________________________________________________\n",
            "dense_25 (Dense)                (None, 50)           2550        dense_24[0][0]                   \n",
            "__________________________________________________________________________________________________\n",
            "dense_26 (Dense)                (None, 50)           2550        dense_25[0][0]                   \n",
            "__________________________________________________________________________________________________\n",
            "concatenate_2 (Concatenate)     (None, 64)           0           input_8[0][0]                    \n",
            "                                                                 dense_26[0][0]                   \n",
            "__________________________________________________________________________________________________\n",
            "dense_27 (Dense)                (None, 1)            65          concatenate_2[0][0]              \n",
            "==================================================================================================\n",
            "Total params: 5,915\n",
            "Trainable params: 5,915\n",
            "Non-trainable params: 0\n",
            "__________________________________________________________________________________________________\n",
            "Epoch 1/3\n",
            "825/825 [==============================] - 2s 2ms/step - loss: 0.0892 - accuracy: 0.8285 - val_loss: 0.5554 - val_accuracy: 0.7906\n",
            "Epoch 2/3\n",
            "825/825 [==============================] - 2s 2ms/step - loss: 0.0767 - accuracy: 0.8754 - val_loss: 0.3617 - val_accuracy: 0.8827\n",
            "Epoch 3/3\n",
            "825/825 [==============================] - 2s 2ms/step - loss: 0.0730 - accuracy: 0.8900 - val_loss: 0.4142 - val_accuracy: 0.8667\n"
          ],
          "name": "stdout"
        },
        {
          "output_type": "display_data",
          "data": {
            "image/png": "[encoded data removed]",
            "text/plain": [
              "<Figure size 576x360 with 1 Axes>"
            ]
          },
          "metadata": {
            "tags": [],
            "needs_background": "light"
          }
        }
      ]
    },
    {
      "cell_type": "code",
      "metadata": {
        "id": "z8AYPGep2Ins"
      },
      "source": [
        "#wide_deep1.save('wide_deep1.h5')"
      ],
      "execution_count": null,
      "outputs": []
    },
    {
      "cell_type": "markdown",
      "metadata": {
        "id": "oOYBvx8zE0BO"
      },
      "source": [
        "# Results"
      ]
    },
    {
      "cell_type": "code",
      "metadata": {
        "id": "JN60gOJf_VxW"
      },
      "source": [
        "# Predicting on the validation set\n",
        "valid_pred_wide1 = wide_deep1.predict(X_valid).round()\n",
        "valid_pred_wide = wide_deep.predict(X_valid).round()\n",
        "valid_pred_dense1 = dense_deep1.predict(X_valid).round()\n",
        "valid_pred_dense = dense_deep.predict(X_valid).round()\n",
        "valid_pred_model1 = model1.predict(X_valid).round()\n",
        "valid_pred_model2 = model2.predict(X_valid).round()\n",
        "valid_pred = log_clf.predict(X_valid).round()\n",
        "valid_pred_DA = log_clf_DA.predict(X_valid).round()"
      ],
      "execution_count": null,
      "outputs": []
    },
    {
      "cell_type": "code",
      "metadata": {
        "id": "VCDGe2wcAa8e"
      },
      "source": [
        "# F1 scores for each model\n",
        "f1_wide1 = f1_score(y_valid, valid_pred_wide1)\n",
        "f1_wide = f1_score(y_valid, valid_pred_wide)\n",
        "f1_dense1 = f1_score(y_valid, valid_pred_dense1)\n",
        "f1_dense = f1_score(y_valid, valid_pred_dense)\n",
        "f1_model1 = f1_score(y_valid, valid_pred_model1)\n",
        "f1_model2 = f1_score(y_valid, valid_pred_model2)\n",
        "f1_clf = f1_score(y_valid,valid_pred)\n",
        "f1_clf_DA = f1_score(y_valid,valid_pred_DA)\n",
        "\n",
        "f1_scores = [f1_clf,f1_clf_DA,f1_model2,f1_model1, f1_dense1,f1_dense,f1_wide1,f1_wide]\n"
      ],
      "execution_count": null,
      "outputs": []
    },
    {
      "cell_type": "code",
      "metadata": {
        "id": "rta_gdJkBKp4"
      },
      "source": [
        "results = pd.DataFrame((f1_scores), index = ['Logistic', 'Logistic with DA', '3-layer', '3-layer with DA', 'Dense deep', 'Dense deep with DA','Wide and Deep','Wide and Deep with DA'])\n",
        "results['F1'] = results[0]\n",
        "results = results[['F1']]"
      ],
      "execution_count": null,
      "outputs": []
    },
    {
      "cell_type": "code",
      "metadata": {
        "id": "Q8JRCV2w-5Io"
      },
      "source": [
        "loss_hist_wide_deep = hist_wide_deep.history['loss'][-1]\n",
        "valacc_hist_wide_deep = hist_wide_deep.history['val_accuracy'][-1]\n",
        "valloss_hist_wide_deep = hist_wide_deep.history[ 'val_loss'][-1]\n",
        "acc_hist_wide_deep = hist_wide_deep.history['accuracy'][-1]\n",
        "\n",
        "loss_hist_wide_deep1 = hist_wide_deep1.history['loss'][-1]\n",
        "valacc_hist_wide_deep1 = hist_wide_deep1.history['val_accuracy'][-1]\n",
        "valloss_hist_wide_deep1 = hist_wide_deep1.history[ 'val_loss'][-1]\n",
        "acc_hist_wide_deep1 = hist_wide_deep1.history['accuracy'][-1]\n",
        "\n",
        "loss_hist_dense_deep = hist_dense.history['loss'][-1]\n",
        "valacc_hist_dense_deep = hist_dense.history['val_accuracy'][-1]\n",
        "valloss_hist_dense_deep = hist_dense.history[ 'val_loss'][-1]\n",
        "acc_hist_dense_deep = hist_dense.history['accuracy'][-1]\n",
        "\n",
        "loss_hist_dense_deep1 = hist_dense1.history['loss'][-1]\n",
        "valacc_hist_dense_deep1 = hist_dense1.history['val_accuracy'][-1]\n",
        "valloss_hist_dense_deep1 = hist_dense1.history[ 'val_loss'][-1]\n",
        "acc_hist_dense_deep1 = hist_dense1.history['accuracy'][-1]\n",
        "\n",
        "loss_hist_model1 = history.history['loss'][-1]\n",
        "valacc_hist_model1 = history.history['val_accuracy'][-1]\n",
        "valloss_hist_model1 = history.history[ 'val_loss'][-1]\n",
        "acc_hist_model1 = history.history['accuracy'][-1]\n",
        "\n",
        "loss_hist_model2 = history1.history['loss'][-1]\n",
        "valacc_hist_model2 = history1.history['val_accuracy'][-1]\n",
        "valloss_hist_model2 = history1.history[ 'val_loss'][-1]\n",
        "acc_hist_model2 = history1.history['accuracy'][-1]"
      ],
      "execution_count": null,
      "outputs": []
    },
    {
      "cell_type": "code",
      "metadata": {
        "id": "DcgtEEnmkqOE"
      },
      "source": [
        "logistic_acc = accuracy_score(y_valid,valid_pred)\n",
        "logistic_acc_DA = accuracy_score(y_valid,valid_pred_DA)"
      ],
      "execution_count": null,
      "outputs": []
    },
    {
      "cell_type": "code",
      "metadata": {
        "id": "phGYuVjeyEXd"
      },
      "source": [
        "# Creating results table\n",
        "results['Kaggle'] = [0.08701,0.08304,0.13149,0.10729,0.05020,0.08485,0.12260,0.09895]\n",
        "results['Loss'] = ['0','0',loss_hist_model2 ,loss_hist_model1,loss_hist_dense_deep1,loss_hist_dense_deep,loss_hist_wide_deep1,loss_hist_wide_deep]\n",
        "results['Accuracy'] = [logistic_acc,logistic_acc_DA,acc_hist_model2,acc_hist_model1,acc_hist_dense_deep1,acc_hist_dense_deep,acc_hist_wide_deep1,acc_hist_wide_deep]\n",
        "results['val loss'] = ['0','0',valloss_hist_model2,valloss_hist_model1,valloss_hist_dense_deep1,valloss_hist_dense_deep,valloss_hist_wide_deep1,valloss_hist_wide_deep]\n",
        "results['val accuracy'] = ['0','0',valacc_hist_model2,valacc_hist_model1,valacc_hist_dense_deep1,valacc_hist_dense_deep,valacc_hist_wide_deep1,valacc_hist_wide_deep]"
      ],
      "execution_count": null,
      "outputs": []
    },
    {
      "cell_type": "code",
      "metadata": {
        "colab": {
          "base_uri": "https://localhost:8080/",
          "height": 287
        },
        "id": "_QBGrcNfyQm4",
        "outputId": "1337ad28-711f-4d80-d079-be887ac83d81"
      },
      "source": [
        "results"
      ],
      "execution_count": null,
      "outputs": [
        {
          "output_type": "execute_result",
          "data": {
            "text/html": [
              "<div>\n",
              "<style scoped>\n",
              "    .dataframe tbody tr th:only-of-type {\n",
              "        vertical-align: middle;\n",
              "    }\n",
              "\n",
              "    .dataframe tbody tr th {\n",
              "        vertical-align: top;\n",
              "    }\n",
              "\n",
              "    .dataframe thead th {\n",
              "        text-align: right;\n",
              "    }\n",
              "</style>\n",
              "<table border=\"1\" class=\"dataframe\">\n",
              "  <thead>\n",
              "    <tr style=\"text-align: right;\">\n",
              "      <th></th>\n",
              "      <th>F1</th>\n",
              "      <th>Kaggle</th>\n",
              "      <th>Loss</th>\n",
              "      <th>Accuracy</th>\n",
              "      <th>val loss</th>\n",
              "      <th>val accuracy</th>\n",
              "    </tr>\n",
              "  </thead>\n",
              "  <tbody>\n",
              "    <tr>\n",
              "      <th>Logistic</th>\n",
              "      <td>0.217709</td>\n",
              "      <td>0.08701</td>\n",
              "      <td>0</td>\n",
              "      <td>0.854091</td>\n",
              "      <td>0</td>\n",
              "      <td>0</td>\n",
              "    </tr>\n",
              "    <tr>\n",
              "      <th>Logistic with DA</th>\n",
              "      <td>0.214627</td>\n",
              "      <td>0.08304</td>\n",
              "      <td>0</td>\n",
              "      <td>0.825909</td>\n",
              "      <td>0</td>\n",
              "      <td>0</td>\n",
              "    </tr>\n",
              "    <tr>\n",
              "      <th>3-layer</th>\n",
              "      <td>0.360262</td>\n",
              "      <td>0.13149</td>\n",
              "      <td>0.0555428</td>\n",
              "      <td>0.877462</td>\n",
              "      <td>0.334887</td>\n",
              "      <td>0.855</td>\n",
              "    </tr>\n",
              "    <tr>\n",
              "      <th>3-layer with DA</th>\n",
              "      <td>0.394966</td>\n",
              "      <td>0.10729</td>\n",
              "      <td>0.217918</td>\n",
              "      <td>0.910919</td>\n",
              "      <td>0.302811</td>\n",
              "      <td>0.882879</td>\n",
              "    </tr>\n",
              "    <tr>\n",
              "      <th>Dense deep</th>\n",
              "      <td>0.402151</td>\n",
              "      <td>0.05020</td>\n",
              "      <td>0.0638851</td>\n",
              "      <td>0.894962</td>\n",
              "      <td>0.3234</td>\n",
              "      <td>0.915758</td>\n",
              "    </tr>\n",
              "    <tr>\n",
              "      <th>Dense deep with DA</th>\n",
              "      <td>0.352854</td>\n",
              "      <td>0.08485</td>\n",
              "      <td>0.240673</td>\n",
              "      <td>0.895892</td>\n",
              "      <td>0.294431</td>\n",
              "      <td>0.878788</td>\n",
              "    </tr>\n",
              "    <tr>\n",
              "      <th>Wide and Deep</th>\n",
              "      <td>0.292605</td>\n",
              "      <td>0.12260</td>\n",
              "      <td>0.0736969</td>\n",
              "      <td>0.886818</td>\n",
              "      <td>0.414189</td>\n",
              "      <td>0.866667</td>\n",
              "    </tr>\n",
              "    <tr>\n",
              "      <th>Wide and Deep with DA</th>\n",
              "      <td>0.339437</td>\n",
              "      <td>0.09895</td>\n",
              "      <td>0.332244</td>\n",
              "      <td>0.848319</td>\n",
              "      <td>0.320116</td>\n",
              "      <td>0.857879</td>\n",
              "    </tr>\n",
              "  </tbody>\n",
              "</table>\n",
              "</div>"
            ],
            "text/plain": [
              "                             F1   Kaggle  ...  val loss  val accuracy\n",
              "Logistic               0.217709  0.08701  ...         0             0\n",
              "Logistic with DA       0.214627  0.08304  ...         0             0\n",
              "3-layer                0.360262  0.13149  ...  0.334887         0.855\n",
              "3-layer with DA        0.394966  0.10729  ...  0.302811      0.882879\n",
              "Dense deep             0.402151  0.05020  ...    0.3234      0.915758\n",
              "Dense deep with DA     0.352854  0.08485  ...  0.294431      0.878788\n",
              "Wide and Deep          0.292605  0.12260  ...  0.414189      0.866667\n",
              "Wide and Deep with DA  0.339437  0.09895  ...  0.320116      0.857879\n",
              "\n",
              "[8 rows x 6 columns]"
            ]
          },
          "metadata": {
            "tags": []
          },
          "execution_count": 63
        }
      ]
    },
    {
      "cell_type": "markdown",
      "metadata": {
        "id": "nzm5PCxuMMQX"
      },
      "source": [
        "#Predicting on Kaggle"
      ]
    },
    {
      "cell_type": "code",
      "metadata": {
        "colab": {
          "base_uri": "https://localhost:8080/"
        },
        "id": "jPdfcKXpzwI5",
        "outputId": "a1a8a343-e697-41ae-b0cc-2e138f73493a"
      },
      "source": [
        "# Tranforming the test set\n",
        "y_test = test1.values\n",
        "y_test_scaled = std_scaler.transform(y_test)\n",
        "y_test_scaled"
      ],
      "execution_count": null,
      "outputs": [
        {
          "output_type": "execute_result",
          "data": {
            "text/plain": [
              "array([[-0.89638476, -0.65955109,  0.        , ...,  0.08045437,\n",
              "        -1.21808947, -0.53836929],\n",
              "       [-0.89638476, -0.44660603,  0.        , ...,  0.08045437,\n",
              "        -1.16521906, -0.53836929],\n",
              "       [-0.89638476, -0.48209687,  0.        , ...,  0.08045437,\n",
              "        -1.21808947, -0.53836929],\n",
              "       ...,\n",
              "       [ 0.62279441, -0.09169759,  0.        , ..., -1.04263959,\n",
              "        -1.03610799, -1.58856653],\n",
              "       [ 0.62279441,  0.01477495,  1.        , ...,  0.08045437,\n",
              "        -1.11656296, -0.53836929],\n",
              "       [ 1.38238399,  0.33419254,  1.        , ...,  0.08045437,\n",
              "        -1.10430316, -0.53836929]])"
            ]
          },
          "metadata": {
            "tags": []
          },
          "execution_count": 62
        }
      ]
    },
    {
      "cell_type": "code",
      "metadata": {
        "id": "65-VjOVgk0rV"
      },
      "source": [
        "# Predicting on the test set\n",
        "y_pred_dense1 = dense_deep1.predict(y_test_scaled).round()\n",
        "y_pred_wide1 = wide_deep1.predict(y_test_scaled).round()\n",
        "y_pred_wide = wide_deep.predict(y_test_scaled).round()\n",
        "y_pred_dense = dense_deep.predict(y_test_scaled).round()\n",
        "y_pred_model1 = model1.predict(y_test_scaled).round()\n",
        "y_pred_model2 = model2.predict(y_test_scaled).round()\n",
        "y_pred = log_clf.predict(y_test_scaled).round()\n",
        "y_pred_DA = log_clf_DA.predict(y_test_scaled).round()"
      ],
      "execution_count": null,
      "outputs": []
    },
    {
      "cell_type": "code",
      "metadata": {
        "id": "cGFb0aOzktPg"
      },
      "source": [
        "# Creating csv files to upload on Kaggle\n",
        "file = ['y_pred_dense1', 'y_pred_wide', 'y_pred_dense', 'y_pred_model1', 'y_pred_model2','y_pred_wide1','y_pred','y_pred_DA']\n",
        "results = [y_pred_dense1, y_pred_wide, y_pred_dense, y_pred_model1, y_pred_model2, y_pred_wide1,y_pred,y_pred_DA]\n",
        "\n",
        "for x in range(len(results)):\n",
        "    dataframe = pd.DataFrame(results[x])\n",
        "    dataframe = dataframe.astype(int)\n",
        "    dataframe ['Id'] = test['Id']\n",
        "    dataframe ['psrel'] = dataframe[0]\n",
        "    dataframe = dataframe[['Id', 'psrel']]\n",
        "    dataframe.to_csv(f'{file[x]}_results.csv', index = False)"
      ],
      "execution_count": null,
      "outputs": []
    },
    {
      "cell_type": "markdown",
      "metadata": {
        "id": "zhUMqc2n4J2g"
      },
      "source": [
        "#Loading the saved models"
      ]
    },
    {
      "cell_type": "code",
      "metadata": {
        "id": "joDbeR_gejyx"
      },
      "source": [
        "model1 = keras.models.load_model(\"model1.h5\")\n",
        "model2 = keras.models.load_model(\"model2.h5\")\n",
        "dense_deep = keras.models.load_model(\"dense_deep.h5\")\n",
        "dense_deep1 = keras.models.load_model(\"dense_deep1.h5\")\n",
        "wide_deep = keras.models.load_model(\"wide_deep.h5\")\n",
        "wide_deep1 = keras.models.load_model(\"wide_deep1.h5\")\n",
        "#works after you have run the notebook"
      ],
      "execution_count": null,
      "outputs": []
    }
  ]
}